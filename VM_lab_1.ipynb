{
 "cells": [
  {
   "cell_type": "markdown",
   "source": [
    "## Лабораторная работа №1\n",
    "\n",
    "### Численное интегрирование\n",
    "\n",
    "\n",
    "Ступак Дмитрий\n",
    "Б03-207"
   ],
   "metadata": {
    "collapsed": false
   },
   "id": "977aa57d6ae18a53"
  },
  {
   "cell_type": "markdown",
   "source": [
    "#### Постановка задачи\n",
    "\n",
    "Используя предложенные методы, вычислить интеграл от заданной функции  f(x)  по заданному  интервалу  [a, b]. Допустимый уровень погрешности  e=0.0001.\n",
    "\n",
    "\n",
    "\\begin{equation}\n",
    "f(x) = \\frac{x^2+3x}{ln(x)},\\ x \\in [0,1]\n",
    "\\end{equation}\n",
    "\n",
    "\n",
    "Представить в качестве результатов:\n",
    "- формулы для вычисления интегралов\n",
    "- использованный шаг интегрирования (его оценка)\n",
    "- таблицу значений функции в узлах интегрирования\n",
    "- вычисленное значение интеграла\n",
    "- точное значение интеграла и сопоставление фактической погрешности с теоретической\n",
    "- оценка погрешности по правилу Рунге\n",
    "\n",
    "Примечание. Если вычисления проводились с последовательно уменьшающимся шагом, то представить соответствующие промежуточные приближения для интеграла.\n",
    "\n",
    "Для вычисления интеграла использовать 5 методов:\n",
    "- прямоугольников (левых, правых, центральных),\n",
    "- трапеций,\n",
    "- Симпсона.\n"
   ],
   "metadata": {
    "collapsed": false
   },
   "id": "5ca07ea725334b4c"
  },
  {
   "cell_type": "markdown",
   "source": [
    "Реальным значением интеграла с заданной точностью\n",
    "\n",
    "\\begin{equation}\n",
    "\\int_{0}^{0.9} \\frac{x^2+3x}{ln(x)} \\, dx \\approx -4.4077\n",
    "\\end{equation}\n",
    "(Рассчитано с помощью WolframAlpha)"
   ],
   "metadata": {
    "collapsed": false
   },
   "id": "2ed2986b979a7161"
  },
  {
   "cell_type": "code",
   "execution_count": 1,
   "outputs": [],
   "source": [
    "import numpy as np\n",
    "import pandas as pd\n",
    "import matplotlib.pyplot as plt\n",
    "from scipy.integrate import quad\n",
    "eps = 1e-4\n",
    "int_true = -4.4077"
   ],
   "metadata": {
    "collapsed": false,
    "ExecuteTime": {
     "end_time": "2025-03-06T18:05:51.530502Z",
     "start_time": "2025-03-06T18:05:49.475030400Z"
    }
   },
   "id": "e7ff08b4cc935f5d"
  },
  {
   "cell_type": "code",
   "execution_count": 2,
   "outputs": [],
   "source": [
    "def f(x):\n",
    "    return (x*x+3*x)/(np.log(x))"
   ],
   "metadata": {
    "collapsed": false,
    "ExecuteTime": {
     "end_time": "2025-03-06T18:05:51.534049Z",
     "start_time": "2025-03-06T18:05:51.531012400Z"
    }
   },
   "id": "c724dbaae3af4395"
  },
  {
   "cell_type": "code",
   "execution_count": 3,
   "outputs": [
    {
     "data": {
      "text/plain": "<Figure size 640x480 with 1 Axes>",
      "image/png": "[encoded data removed]"
     },
     "metadata": {},
     "output_type": "display_data"
    }
   ],
   "source": [
    "plt.xlabel(\"x\")\n",
    "plt.ylabel(\"y\")\n",
    "\n",
    "x_plot = np.linspace(eps, 0.9, 1000)\n",
    "plt.grid()\n",
    "plt.plot(x_plot, f(x_plot))\n",
    "plt.show()"
   ],
   "metadata": {
    "collapsed": false,
    "ExecuteTime": {
     "end_time": "2025-03-06T18:05:51.689767900Z",
     "start_time": "2025-03-06T18:05:51.536412Z"
    }
   },
   "id": "35fd9497c08a6c7b"
  },
  {
   "cell_type": "markdown",
   "source": [
    "Первая производная:\n",
    "\n",
    "$$\n",
    "f'(x) = \\frac{-3 - x + (3 + 2x) \\cdot \\ln(x)}{(\\ln(x))^2}\n",
    "$$\n",
    "\n",
    "Вторая производная:\n",
    "\n",
    "$$\n",
    "f''(x) = \\frac{2(3 + x) - 3(1 + x) \\cdot \\ln(x) + 2x \\cdot (\\ln(x))^2}{x \\cdot (\\ln(x))^3}\n",
    "$$\n",
    "\n",
    "Четвертая производная:\n",
    "\n",
    "$$\n",
    "f''''(x) = \\frac{2 \\left(12(3 + x) + (x - 3) \\cdot (\\ln(x))^3 - (3 + x) \\cdot (\\ln(x))^2 - 6(x - 3) \\cdot \\ln(x)\\right)}{x^3 \\cdot (\\ln(x))^5}\n",
    "$$"
   ],
   "metadata": {
    "collapsed": false
   },
   "id": "a31a84531fa76c45"
  },
  {
   "cell_type": "code",
   "execution_count": 4,
   "outputs": [],
   "source": [
    "def df(x):\n",
    "    return (-3 - x + (3 + 2 * x) * np.log(x)) / ((np.log(x)) ** 2)\n",
    "    \n",
    "def d2f(x):\n",
    "    return (2 * (3 + x) - 3 * (1 + x) * np.log(x) + 2 * x * (np.log(x)) ** 2) / (x * (np.log(x)) ** 3)\n",
    "    \n",
    "def d4f(x):\n",
    "    return (2 * (12 * (3 + x) + (x - 3) * (np.log(x)) ** 3 - (3 + x) * (np.log(x)) ** 2 - 6 * (x - 3) * np.log(x))) / (x ** 3 * (np.log(x)) ** 5)"
   ],
   "metadata": {
    "collapsed": false,
    "ExecuteTime": {
     "end_time": "2025-03-06T18:05:59.005844500Z",
     "start_time": "2025-03-06T18:05:58.979461200Z"
    }
   },
   "id": "fd0a7d733fccce91"
  },
  {
   "cell_type": "code",
   "execution_count": 7,
   "outputs": [
    {
     "name": "stdout",
     "output_type": "stream",
     "text": [
      "Интеграл меньше погрешности при δ < 0.012659999999940434\n",
      "Остаток равен -4.9877859954280966e-05\n"
     ]
    },
    {
     "data": {
      "text/plain": "-4.9877859954280966e-05"
     },
     "execution_count": 7,
     "metadata": {},
     "output_type": "execute_result"
    }
   ],
   "source": [
    "delta = 0.2\n",
    "while True:\n",
    "    result = quad(func=f, a=0, b=delta)\n",
    "    if abs(result[0]) < eps/2:\n",
    "        break\n",
    "    delta -= 0.00001\n",
    "\n",
    "print(f'Интеграл меньше погрешности при δ < {delta}')\n",
    "\n",
    "delta = 0.01265\n",
    "\n",
    "tail = quad(func=f, a=0, b=delta)[0]\n",
    "print(f'Остаток равен {tail}')"
   ],
   "metadata": {
    "collapsed": false,
    "ExecuteTime": {
     "end_time": "2025-03-06T18:07:27.509599Z",
     "start_time": "2025-03-06T18:07:25.675777500Z"
    }
   },
   "id": "9570316831971aa7"
  },
  {
   "cell_type": "code",
   "execution_count": 8,
   "outputs": [],
   "source": [
    "a = delta\n",
    "b = 0.9\n",
    "tail = tail"
   ],
   "metadata": {
    "collapsed": false,
    "ExecuteTime": {
     "end_time": "2025-03-06T18:08:20.670960800Z",
     "start_time": "2025-03-06T18:08:20.664140700Z"
    }
   },
   "id": "bb93b809cc1b8d44"
  },
  {
   "cell_type": "markdown",
   "source": [
    "#### Метод левых прямоугольников\n",
    "\n",
    "\\begin{equation}\n",
    "\\int_{a}^{b} f(x) \\, dx \\approx  \\sum_{i=0}^{n-1} f(x_i) * (x_{i+1} - x_i)\n",
    "\\end{equation}\n"
   ],
   "metadata": {
    "collapsed": false
   },
   "id": "e865567f9a82d3af"
  },
  {
   "cell_type": "markdown",
   "source": [
    "##### Вычислим h\n",
    "\n",
    "\\begin{equation}\n",
    "h \\leq \\frac{2 * \\epsilon}{(b - a) * M_1}, \\ где \\  M_1 = \\max_{x \\in [a,b]} \\left| f'(x) \\right|\n",
    "\\end{equation}"
   ],
   "metadata": {
    "collapsed": false
   },
   "id": "62195810d14d4a61"
  },
  {
   "cell_type": "code",
   "execution_count": 59,
   "outputs": [
    {
     "name": "stdout",
     "output_type": "stream",
     "text": [
      "h <= 5.679013378284436e-07, берем h = 5e-08\n"
     ]
    }
   ],
   "source": [
    "m1 = abs(df(b))  \n",
    "h_left = 2 * eps / ((b - a) * m1)\n",
    "\n",
    "print(f'h <= {h_left}, берем h = 5e-08')\n",
    "h_left = 5e-08"
   ],
   "metadata": {
    "collapsed": false,
    "ExecuteTime": {
     "end_time": "2025-03-06T18:36:11.712743400Z",
     "start_time": "2025-03-06T18:36:11.694272900Z"
    }
   },
   "id": "355511d174d027a5"
  },
  {
   "cell_type": "code",
   "execution_count": 60,
   "outputs": [
    {
     "name": "stdout",
     "output_type": "stream",
     "text": [
      "Интеграл методом левых прямоугольников равен -4.4077\n",
      "Фактическая погрешность  2.9134989041779136e-05\n"
     ]
    },
    {
     "data": {
      "text/plain": "                x         y\n0         0.01265 -0.000050\n1         0.01265 -0.000050\n2         0.01265 -0.000050\n3         0.01265 -0.000050\n4         0.01265 -0.000050\n...           ...       ...\n17746994  0.90000 -4.407664\n17746995  0.90000 -4.407666\n17746996  0.90000 -4.407668\n17746997  0.90000 -4.407669\n17746998  0.90000 -4.407671\n\n[17746999 rows x 2 columns]",
      "text/html": "<div>\n<style scoped>\n    .dataframe tbody tr th:only-of-type {\n        vertical-align: middle;\n    }\n\n    .dataframe tbody tr th {\n        vertical-align: top;\n    }\n\n    .dataframe thead th {\n        text-align: right;\n    }\n</style>\n<table border=\"1\" class=\"dataframe\">\n  <thead>\n    <tr style=\"text-align: right;\">\n      <th></th>\n      <th>x</th>\n      <th>y</th>\n    </tr>\n  </thead>\n  <tbody>\n    <tr>\n      <th>0</th>\n      <td>0.01265</td>\n      <td>-0.000050</td>\n    </tr>\n    <tr>\n      <th>1</th>\n      <td>0.01265</td>\n      <td>-0.000050</td>\n    </tr>\n    <tr>\n      <th>2</th>\n      <td>0.01265</td>\n      <td>-0.000050</td>\n    </tr>\n    <tr>\n      <th>3</th>\n      <td>0.01265</td>\n      <td>-0.000050</td>\n    </tr>\n    <tr>\n      <th>4</th>\n      <td>0.01265</td>\n      <td>-0.000050</td>\n    </tr>\n    <tr>\n      <th>...</th>\n      <td>...</td>\n      <td>...</td>\n    </tr>\n    <tr>\n      <th>17746994</th>\n      <td>0.90000</td>\n      <td>-4.407664</td>\n    </tr>\n    <tr>\n      <th>17746995</th>\n      <td>0.90000</td>\n      <td>-4.407666</td>\n    </tr>\n    <tr>\n      <th>17746996</th>\n      <td>0.90000</td>\n      <td>-4.407668</td>\n    </tr>\n    <tr>\n      <th>17746997</th>\n      <td>0.90000</td>\n      <td>-4.407669</td>\n    </tr>\n    <tr>\n      <th>17746998</th>\n      <td>0.90000</td>\n      <td>-4.407671</td>\n    </tr>\n  </tbody>\n</table>\n<p>17746999 rows × 2 columns</p>\n</div>"
     },
     "execution_count": 60,
     "metadata": {},
     "output_type": "execute_result"
    }
   ],
   "source": [
    "x_left = np.arange(a, b, h_left)\n",
    "\n",
    "s_left = tail\n",
    "\n",
    "left_sums = []\n",
    "for i in range(len(x_left) - 1):\n",
    "    s_left += f(x_left[i]) * (x_left[i + 1] - x_left[i])\n",
    "    left_sums.append(s_left)\n",
    "    \n",
    "print(f'Интеграл методом левых прямоугольников равен {round(s_left,4)}')\n",
    "print(f'Фактическая погрешность  {abs(int_true - s_left)}')\n",
    "\n",
    "table_left_rect = pd.DataFrame({'x': x_left[1:], 'y': left_sums})\n",
    "table_left_rect"
   ],
   "metadata": {
    "collapsed": false,
    "ExecuteTime": {
     "end_time": "2025-03-06T18:36:56.851148900Z",
     "start_time": "2025-03-06T18:36:18.134985900Z"
    }
   },
   "id": "821ce0b1eb5afbd1"
  },
  {
   "cell_type": "markdown",
   "source": [
    "##### Оценка погрешности правилом Рунге\n",
    "\n",
    "\\begin{equation}\n",
    "p = log_2 (\\frac{ \\left| S_h - S_{2h} \\right|}{\\epsilon} + 1)\n",
    "\\end{equation}"
   ],
   "metadata": {
    "collapsed": false
   },
   "id": "7a88727ad1f43a84"
  },
  {
   "cell_type": "code",
   "execution_count": 61,
   "outputs": [
    {
     "name": "stdout",
     "output_type": "stream",
     "text": [
      "Оценка погрешности правилом Рунге - 0.03560058742082004\n"
     ]
    }
   ],
   "source": [
    "x_left_2h = np.arange(a, b, 2 * h_left)\n",
    "\n",
    "s_left_2h = tail\n",
    "\n",
    "for i in range(len(x_left_2h) - 1):\n",
    "    s_left_2h += f(x_left_2h[i]) * (x_left_2h[i + 1] - x_left_2h[i])\n",
    "\n",
    "p_left = np.log2((abs(s_left_2h - s_left) / eps) + 1)\n",
    "\n",
    "print(f'Оценка погрешности правилом Рунге - {p_left}')"
   ],
   "metadata": {
    "collapsed": false,
    "ExecuteTime": {
     "end_time": "2025-03-06T18:37:14.552635400Z",
     "start_time": "2025-03-06T18:36:56.853192300Z"
    }
   },
   "id": "b7db7ea05da1393a"
  },
  {
   "cell_type": "markdown",
   "source": [
    "#### Метод правых прямоугольников\n",
    "\n",
    "\\begin{equation}\n",
    "\\int_{a}^{b} f(x) \\, dx \\approx  \\sum_{i=1}^{n} f(x_i) * (x_i - x_{i-1})\n",
    "\\end{equation}\n"
   ],
   "metadata": {
    "collapsed": false
   },
   "id": "a9bc46ea87dd6db5"
  },
  {
   "cell_type": "markdown",
   "source": [
    "##### Вычислим h\n",
    "\n",
    "\\begin{equation}\n",
    "h \\leq \\frac{2 * \\epsilon}{(b - a) * M_1}, \\ где \\  M_1 = \\max_{x \\in [a,b]} \\left| f'(x) \\right|\n",
    "\\end{equation}\n"
   ],
   "metadata": {
    "collapsed": false
   },
   "id": "1b0c48402b2fdca5"
  },
  {
   "cell_type": "code",
   "execution_count": 62,
   "outputs": [
    {
     "name": "stdout",
     "output_type": "stream",
     "text": [
      "h <= 5.679013378284436e-07, возьмём h = 5e-07\n"
     ]
    }
   ],
   "source": [
    "m1 = abs(df(b))\n",
    "h_right = 2 * eps / (b - a) / m1\n",
    "\n",
    "print(f'h <= {h_right}, возьмём h = 5e-08')\n",
    "\n",
    "h_right = 5e-08"
   ],
   "metadata": {
    "collapsed": false,
    "ExecuteTime": {
     "end_time": "2025-03-06T18:37:14.555705800Z",
     "start_time": "2025-03-06T18:37:14.550072700Z"
    }
   },
   "id": "41530b33f9a4722c"
  },
  {
   "cell_type": "code",
   "execution_count": 63,
   "outputs": [
    {
     "name": "stdout",
     "output_type": "stream",
     "text": [
      "Интеграл методом правых прямоугольников равен -4.4077\n",
      "Фактическая погрешность  2.746971672262788e-05\n"
     ]
    },
    {
     "data": {
      "text/plain": "                x         y\n0         0.01265 -0.000050\n1         0.01265 -0.000050\n2         0.01265 -0.000050\n3         0.01265 -0.000050\n4         0.01265 -0.000050\n...           ...       ...\n17746994  0.90000 -4.407666\n17746995  0.90000 -4.407668\n17746996  0.90000 -4.407669\n17746997  0.90000 -4.407671\n17746998  0.90000 -4.407673\n\n[17746999 rows x 2 columns]",
      "text/html": "<div>\n<style scoped>\n    .dataframe tbody tr th:only-of-type {\n        vertical-align: middle;\n    }\n\n    .dataframe tbody tr th {\n        vertical-align: top;\n    }\n\n    .dataframe thead th {\n        text-align: right;\n    }\n</style>\n<table border=\"1\" class=\"dataframe\">\n  <thead>\n    <tr style=\"text-align: right;\">\n      <th></th>\n      <th>x</th>\n      <th>y</th>\n    </tr>\n  </thead>\n  <tbody>\n    <tr>\n      <th>0</th>\n      <td>0.01265</td>\n      <td>-0.000050</td>\n    </tr>\n    <tr>\n      <th>1</th>\n      <td>0.01265</td>\n      <td>-0.000050</td>\n    </tr>\n    <tr>\n      <th>2</th>\n      <td>0.01265</td>\n      <td>-0.000050</td>\n    </tr>\n    <tr>\n      <th>3</th>\n      <td>0.01265</td>\n      <td>-0.000050</td>\n    </tr>\n    <tr>\n      <th>4</th>\n      <td>0.01265</td>\n      <td>-0.000050</td>\n    </tr>\n    <tr>\n      <th>...</th>\n      <td>...</td>\n      <td>...</td>\n    </tr>\n    <tr>\n      <th>17746994</th>\n      <td>0.90000</td>\n      <td>-4.407666</td>\n    </tr>\n    <tr>\n      <th>17746995</th>\n      <td>0.90000</td>\n      <td>-4.407668</td>\n    </tr>\n    <tr>\n      <th>17746996</th>\n      <td>0.90000</td>\n      <td>-4.407669</td>\n    </tr>\n    <tr>\n      <th>17746997</th>\n      <td>0.90000</td>\n      <td>-4.407671</td>\n    </tr>\n    <tr>\n      <th>17746998</th>\n      <td>0.90000</td>\n      <td>-4.407673</td>\n    </tr>\n  </tbody>\n</table>\n<p>17746999 rows × 2 columns</p>\n</div>"
     },
     "execution_count": 63,
     "metadata": {},
     "output_type": "execute_result"
    }
   ],
   "source": [
    "x_right = np.arange(a, b, h_right)\n",
    "\n",
    "s_right = tail\n",
    "\n",
    "right_sums = []\n",
    "for i in range(1, len(x_right)):\n",
    "    s_right += f(x_right[i]) * (x_right[i] - x_right[i - 1])\n",
    "    right_sums.append(s_right)\n",
    "\n",
    "print(f'Интеграл методом правых прямоугольников равен {round(s_right, 4)}')\n",
    "print(f'Фактическая погрешность  {abs(int_true - s_right)}')\n",
    "\n",
    "table_right = pd.DataFrame({'x': x_right[1:], 'y': right_sums})\n",
    "table_right"
   ],
   "metadata": {
    "collapsed": false,
    "ExecuteTime": {
     "end_time": "2025-03-06T18:37:52.232671500Z",
     "start_time": "2025-03-06T18:37:14.554168300Z"
    }
   },
   "id": "6d84d33f979479d2"
  },
  {
   "cell_type": "markdown",
   "source": [
    "##### Оценка погрешности правилом Рунге\n",
    "\n",
    "\\begin{equation}\n",
    "p = log_2 (\\frac{ \\left| S_h - S_{2h} \\right|}{\\epsilon} + 1)\n",
    "\\end{equation}"
   ],
   "metadata": {
    "collapsed": false
   },
   "id": "7f743f12e996b72"
  },
  {
   "cell_type": "code",
   "execution_count": 64,
   "outputs": [
    {
     "name": "stdout",
     "output_type": "stream",
     "text": [
      "Оценка погрешности правилом Рунге - 0.058851427931985764\n"
     ]
    }
   ],
   "source": [
    "x_right_2h = np.arange(a, b, 2 * h_right)\n",
    "\n",
    "s_right_2h = tail\n",
    "\n",
    "for i in range(len(x_right_2h) - 1):\n",
    "    s_right_2h += f(x_right_2h[i]) * (x_right_2h[i + 1] - x_right_2h[i])\n",
    "\n",
    "p_right = np.log2((abs(s_right_2h - s_right) / eps) + 1)\n",
    "\n",
    "print(f'Оценка погрешности правилом Рунге - {p_right}')"
   ],
   "metadata": {
    "collapsed": false,
    "ExecuteTime": {
     "end_time": "2025-03-06T18:38:10.597232600Z",
     "start_time": "2025-03-06T18:37:52.233672900Z"
    }
   },
   "id": "f429da5d2457b7c2"
  },
  {
   "cell_type": "markdown",
   "source": [
    "#### Метод центральных прямоугольников\n",
    "\n",
    "\\begin{equation}\n",
    "\\int_{a}^{b} f(x) \\, dx \\approx  \\sum_{i=0}^{n-1} f(\\frac{x_{i+1} + x_i}{2}) * (x_{i+1} - x_i)\n",
    "\\end{equation}"
   ],
   "metadata": {
    "collapsed": false
   },
   "id": "8168d2992fd49d29"
  },
  {
   "cell_type": "markdown",
   "source": [
    "##### Вычислим h\n",
    "\n",
    "\\begin{equation}\n",
    "h \\leq \\sqrt[2]{\\frac{24 * \\epsilon}{(b - a) * M_2}}, \\ где \\  M_2 = \\max_{x \\in [a,b]} \\left| f''(x) \\right|\n",
    "\\end{equation}\n"
   ],
   "metadata": {
    "collapsed": false
   },
   "id": "311297bc5beec224"
  },
  {
   "cell_type": "code",
   "execution_count": 66,
   "outputs": [
    {
     "name": "stdout",
     "output_type": "stream",
     "text": [
      "h <= 0.0005814687107300214, возьмём h = 5e-8\n"
     ]
    }
   ],
   "source": [
    "m2 = abs(d2f(b))\n",
    "h_center = np.sqrt(24 * eps / (b - a) / m2)\n",
    "\n",
    "print(f'h <= {h_center}, возьмём h = 5e-8')\n",
    "\n",
    "h_center = 5e-8"
   ],
   "metadata": {
    "collapsed": false,
    "ExecuteTime": {
     "end_time": "2025-03-06T18:38:18.871921700Z",
     "start_time": "2025-03-06T18:38:18.853784800Z"
    }
   },
   "id": "a9597aec429e6dbe"
  },
  {
   "cell_type": "code",
   "execution_count": 67,
   "outputs": [
    {
     "name": "stdout",
     "output_type": "stream",
     "text": [
      "Интеграл методом центральных прямоугольников равен -4.4077\n",
      "Фактическая погрешность  2.83023527014592e-05\n"
     ]
    },
    {
     "data": {
      "text/plain": "                x         y\n0         0.01265 -0.000050\n1         0.01265 -0.000050\n2         0.01265 -0.000050\n3         0.01265 -0.000050\n4         0.01265 -0.000050\n...           ...       ...\n17746994  0.90000 -4.407665\n17746995  0.90000 -4.407667\n17746996  0.90000 -4.407668\n17746997  0.90000 -4.407670\n17746998  0.90000 -4.407672\n\n[17746999 rows x 2 columns]",
      "text/html": "<div>\n<style scoped>\n    .dataframe tbody tr th:only-of-type {\n        vertical-align: middle;\n    }\n\n    .dataframe tbody tr th {\n        vertical-align: top;\n    }\n\n    .dataframe thead th {\n        text-align: right;\n    }\n</style>\n<table border=\"1\" class=\"dataframe\">\n  <thead>\n    <tr style=\"text-align: right;\">\n      <th></th>\n      <th>x</th>\n      <th>y</th>\n    </tr>\n  </thead>\n  <tbody>\n    <tr>\n      <th>0</th>\n      <td>0.01265</td>\n      <td>-0.000050</td>\n    </tr>\n    <tr>\n      <th>1</th>\n      <td>0.01265</td>\n      <td>-0.000050</td>\n    </tr>\n    <tr>\n      <th>2</th>\n      <td>0.01265</td>\n      <td>-0.000050</td>\n    </tr>\n    <tr>\n      <th>3</th>\n      <td>0.01265</td>\n      <td>-0.000050</td>\n    </tr>\n    <tr>\n      <th>4</th>\n      <td>0.01265</td>\n      <td>-0.000050</td>\n    </tr>\n    <tr>\n      <th>...</th>\n      <td>...</td>\n      <td>...</td>\n    </tr>\n    <tr>\n      <th>17746994</th>\n      <td>0.90000</td>\n      <td>-4.407665</td>\n    </tr>\n    <tr>\n      <th>17746995</th>\n      <td>0.90000</td>\n      <td>-4.407667</td>\n    </tr>\n    <tr>\n      <th>17746996</th>\n      <td>0.90000</td>\n      <td>-4.407668</td>\n    </tr>\n    <tr>\n      <th>17746997</th>\n      <td>0.90000</td>\n      <td>-4.407670</td>\n    </tr>\n    <tr>\n      <th>17746998</th>\n      <td>0.90000</td>\n      <td>-4.407672</td>\n    </tr>\n  </tbody>\n</table>\n<p>17746999 rows × 2 columns</p>\n</div>"
     },
     "execution_count": 67,
     "metadata": {},
     "output_type": "execute_result"
    }
   ],
   "source": [
    "x_center = np.arange(a, b, h_center)\n",
    "\n",
    "s_center = tail\n",
    "\n",
    "center_sums = []\n",
    "for i in range(len(x_center) - 1):\n",
    "    s_center += f((x_center[i + 1] + x_center[i]) / 2) * (x_center[i + 1] - x_center[i])\n",
    "    center_sums.append(s_center)\n",
    "\n",
    "print(f'Интеграл методом центральных прямоугольников равен {round(s_center, 4)}')\n",
    "print(f'Фактическая погрешность  {abs(int_true - s_center)}')\n",
    "\n",
    "table_center_rect = pd.DataFrame({'x': x_center[1:], 'y': center_sums})\n",
    "table_center_rect"
   ],
   "metadata": {
    "collapsed": false,
    "ExecuteTime": {
     "end_time": "2025-03-06T18:39:05.937130100Z",
     "start_time": "2025-03-06T18:38:21.701232900Z"
    }
   },
   "id": "8c5c2823a242eba5"
  },
  {
   "cell_type": "markdown",
   "source": [
    "##### Оценка погрешности правилом Рунге\n",
    "\n",
    "\\begin{equation}\n",
    "p = log_2 (\\frac{ \\left| S_h - S_{2h} \\right|}{\\epsilon} + 1)\n",
    "\\end{equation}"
   ],
   "metadata": {
    "collapsed": false
   },
   "id": "6226951db6505090"
  },
  {
   "cell_type": "code",
   "execution_count": 68,
   "outputs": [
    {
     "name": "stdout",
     "output_type": "stream",
     "text": [
      "Оценка погрешности правилом Рунге - 0.023833139737097584\n"
     ]
    }
   ],
   "source": [
    "x_center_2h = np.arange(a, b, 2 * h_center)\n",
    "\n",
    "s_center_2h = tail\n",
    "\n",
    "for i in range(len(x_center_2h) - 1):\n",
    "    s_center_2h += f((x_center_2h[i + 1] + x_center_2h[i]) / 2) * (x_center_2h[i + 1] - x_center_2h[i])\n",
    "\n",
    "p_center = np.log2(abs(s_center_2h - s_center) / eps + 1)\n",
    "\n",
    "print(f'Оценка погрешности правилом Рунге - {p_center}')"
   ],
   "metadata": {
    "collapsed": false,
    "ExecuteTime": {
     "end_time": "2025-03-06T18:39:25.987245600Z",
     "start_time": "2025-03-06T18:39:05.939131800Z"
    }
   },
   "id": "5d4f0dccdea338dd"
  },
  {
   "cell_type": "markdown",
   "source": [
    "#### Метод трапеций\n",
    "\n",
    "\n",
    "\\begin{equation}\n",
    "\\int_{a}^{b} f(x) \\, dx \\approx  \\sum_{i=0}^{n-1} \\frac{f(x_{i+1}) + f(x_i)}{2} * (x_{i+1} - x_i)\n",
    "\\end{equation}"
   ],
   "metadata": {
    "collapsed": false
   },
   "id": "3d0483c12469c3e6"
  },
  {
   "cell_type": "markdown",
   "source": [
    "##### Вычислим h\n",
    "\n",
    "\\begin{equation}\n",
    "h \\leq \\sqrt[2]{\\frac{24 * \\epsilon}{(a - b) * M_2}}, \\ где \\  M_2 = \\max_{x \\in [a,b]} \\left| f''(x) \\right|\n",
    "\\end{equation}\n"
   ],
   "metadata": {
    "collapsed": false
   },
   "id": "e854891e34574ec9"
  },
  {
   "cell_type": "code",
   "execution_count": 69,
   "outputs": [
    {
     "name": "stdout",
     "output_type": "stream",
     "text": [
      "h <= 0.0004111604684049972, возьмём h = 5e-8\n"
     ]
    }
   ],
   "source": [
    "m2 = abs(d2f(b))\n",
    "h_trapezoid = np.sqrt(12 * eps / (b - delta) / m2)\n",
    "\n",
    "print(f'h <= {h_trapezoid}, возьмём h = 5e-8')\n",
    "\n",
    "h_trapezoid = 5e-8"
   ],
   "metadata": {
    "collapsed": false,
    "ExecuteTime": {
     "end_time": "2025-03-06T18:39:26.020465300Z",
     "start_time": "2025-03-06T18:39:25.987245600Z"
    }
   },
   "id": "7aeee5fe970b304f"
  },
  {
   "cell_type": "code",
   "execution_count": 70,
   "outputs": [
    {
     "name": "stdout",
     "output_type": "stream",
     "text": [
      "Интеграл методом трапеций равен -4.4077\n",
      "Фактическая погрешность  2.8302352575337864e-05\n"
     ]
    },
    {
     "data": {
      "text/plain": "                x         y\n0         0.01265 -0.000050\n1         0.01265 -0.000050\n2         0.01265 -0.000050\n3         0.01265 -0.000050\n4         0.01265 -0.000050\n...           ...       ...\n17746994  0.90000 -4.407665\n17746995  0.90000 -4.407667\n17746996  0.90000 -4.407668\n17746997  0.90000 -4.407670\n17746998  0.90000 -4.407672\n\n[17746999 rows x 2 columns]",
      "text/html": "<div>\n<style scoped>\n    .dataframe tbody tr th:only-of-type {\n        vertical-align: middle;\n    }\n\n    .dataframe tbody tr th {\n        vertical-align: top;\n    }\n\n    .dataframe thead th {\n        text-align: right;\n    }\n</style>\n<table border=\"1\" class=\"dataframe\">\n  <thead>\n    <tr style=\"text-align: right;\">\n      <th></th>\n      <th>x</th>\n      <th>y</th>\n    </tr>\n  </thead>\n  <tbody>\n    <tr>\n      <th>0</th>\n      <td>0.01265</td>\n      <td>-0.000050</td>\n    </tr>\n    <tr>\n      <th>1</th>\n      <td>0.01265</td>\n      <td>-0.000050</td>\n    </tr>\n    <tr>\n      <th>2</th>\n      <td>0.01265</td>\n      <td>-0.000050</td>\n    </tr>\n    <tr>\n      <th>3</th>\n      <td>0.01265</td>\n      <td>-0.000050</td>\n    </tr>\n    <tr>\n      <th>4</th>\n      <td>0.01265</td>\n      <td>-0.000050</td>\n    </tr>\n    <tr>\n      <th>...</th>\n      <td>...</td>\n      <td>...</td>\n    </tr>\n    <tr>\n      <th>17746994</th>\n      <td>0.90000</td>\n      <td>-4.407665</td>\n    </tr>\n    <tr>\n      <th>17746995</th>\n      <td>0.90000</td>\n      <td>-4.407667</td>\n    </tr>\n    <tr>\n      <th>17746996</th>\n      <td>0.90000</td>\n      <td>-4.407668</td>\n    </tr>\n    <tr>\n      <th>17746997</th>\n      <td>0.90000</td>\n      <td>-4.407670</td>\n    </tr>\n    <tr>\n      <th>17746998</th>\n      <td>0.90000</td>\n      <td>-4.407672</td>\n    </tr>\n  </tbody>\n</table>\n<p>17746999 rows × 2 columns</p>\n</div>"
     },
     "execution_count": 70,
     "metadata": {},
     "output_type": "execute_result"
    }
   ],
   "source": [
    "x_trapezoid = np.arange(delta, b, h_trapezoid)\n",
    "\n",
    "s_trapezoid = tail\n",
    "trapezoid_sums = []\n",
    "\n",
    "for i in range(len(x_trapezoid) - 1):\n",
    "    s_trapezoid += (f(x_trapezoid[i + 1]) + f(x_trapezoid[i])) / 2 * (x_trapezoid[i + 1] - x_trapezoid[i])\n",
    "    trapezoid_sums.append(s_trapezoid)\n",
    "\n",
    "print(f'Интеграл методом трапеций равен {round(s_trapezoid, 4)}')\n",
    "print(f'Фактическая погрешность  {abs(int_true - s_trapezoid)}')\n",
    "\n",
    "table_trapezoid = pd.DataFrame({'x': x_trapezoid[1:], 'y': trapezoid_sums})\n",
    "table_trapezoid"
   ],
   "metadata": {
    "collapsed": false,
    "ExecuteTime": {
     "end_time": "2025-03-06T18:40:34.838425800Z",
     "start_time": "2025-03-06T18:39:25.992793100Z"
    }
   },
   "id": "e7a56442f8c8c795"
  },
  {
   "cell_type": "markdown",
   "source": [
    "##### Оценка погрешности правилом Рунге\n",
    "\n",
    "\\begin{equation}\n",
    "p = log_2 (\\frac{ \\left| S_h - S_{2h} \\right|}{\\epsilon} + 1)\n",
    "\\end{equation}"
   ],
   "metadata": {
    "collapsed": false
   },
   "id": "9d6efe9f4db788ec"
  },
  {
   "cell_type": "code",
   "execution_count": 71,
   "outputs": [
    {
     "name": "stdout",
     "output_type": "stream",
     "text": [
      "Оценка погрешности правилом Рунге - 0.023833134884648402\n"
     ]
    }
   ],
   "source": [
    "x_trapezoid_2h = np.arange(delta, b, 2 * h_trapezoid)\n",
    "\n",
    "s_trapezoid_2h = tail\n",
    "\n",
    "for i in range(len(x_trapezoid_2h) - 1):\n",
    "    s_trapezoid_2h += (f(x_trapezoid_2h[i + 1]) + f(x_trapezoid_2h[i])) / 2 * (x_trapezoid_2h[i + 1] - x_trapezoid_2h[i])\n",
    "\n",
    "p_trapezoid = np.log2(abs(s_trapezoid_2h - s_trapezoid) / eps + 1)\n",
    "\n",
    "print(f'Оценка погрешности правилом Рунге - {p_trapezoid}')"
   ],
   "metadata": {
    "collapsed": false,
    "ExecuteTime": {
     "end_time": "2025-03-06T18:41:06.818621Z",
     "start_time": "2025-03-06T18:40:34.829883600Z"
    }
   },
   "id": "f3aea11bc03c7f6f"
  },
  {
   "cell_type": "markdown",
   "source": [
    "#### Метод Симпсона\n",
    "\n",
    "\\begin{equation}\n",
    "\\int_{a}^{b} f(x) \\, dx \\approx  \\sum_{i=0}^{n-1} \\frac{f(x_{i+1})+ 4 * f(\\frac{x_{i+1} + x_i}{2}) + f(x_i)}{6} * (x_{i+1} - x_i)\n",
    "\\end{equation}"
   ],
   "metadata": {
    "collapsed": false
   },
   "id": "2823e3540e4c8e90"
  },
  {
   "cell_type": "markdown",
   "source": [
    "##### Вычислим h\n",
    "\n",
    "\\begin{equation}\n",
    "h \\leq \\sqrt[4]{\\frac{2880 * \\epsilon}{(b - a) * M_4}}, \\ где \\  M_2 = \\max_{x \\in [a,b]} \\left| f''(x) \\right|\n",
    "\\end{equation}\n"
   ],
   "metadata": {
    "collapsed": false
   },
   "id": "5c6bdd408ad4e7af"
  },
  {
   "cell_type": "code",
   "execution_count": 72,
   "outputs": [
    {
     "name": "stdout",
     "output_type": "stream",
     "text": [
      "h <= 0.013559902579705034, возьмём h = 5e-8, благодаря неравенству\n"
     ]
    }
   ],
   "source": [
    "m4 = abs(d4f(b))\n",
    "h_simpson = (2880 * eps / (b - a) / m4) ** 0.25\n",
    "\n",
    "print(f'h <= {h_simpson}, возьмём h = 5e-8, благодаря неравенству')\n",
    "\n",
    "h_simpson = 5e-8"
   ],
   "metadata": {
    "collapsed": false,
    "ExecuteTime": {
     "end_time": "2025-03-06T18:41:06.833797200Z",
     "start_time": "2025-03-06T18:41:06.820652300Z"
    }
   },
   "id": "6f8e50115e8d77e2"
  },
  {
   "cell_type": "code",
   "execution_count": 78,
   "outputs": [
    {
     "name": "stdout",
     "output_type": "stream",
     "text": [
      "Интеграл методом Симпсона -4.4077\n",
      "Фактическая погрешность 2.8302352665043884e-05\n"
     ]
    },
    {
     "data": {
      "text/plain": "                x         y\n0         0.01265 -0.000050\n1         0.01265 -0.000050\n2         0.01265 -0.000050\n3         0.01265 -0.000050\n4         0.01265 -0.000050\n...           ...       ...\n17746994  0.90000 -4.407665\n17746995  0.90000 -4.407667\n17746996  0.90000 -4.407668\n17746997  0.90000 -4.407670\n17746998  0.90000 -4.407672\n\n[17746999 rows x 2 columns]",
      "text/html": "<div>\n<style scoped>\n    .dataframe tbody tr th:only-of-type {\n        vertical-align: middle;\n    }\n\n    .dataframe tbody tr th {\n        vertical-align: top;\n    }\n\n    .dataframe thead th {\n        text-align: right;\n    }\n</style>\n<table border=\"1\" class=\"dataframe\">\n  <thead>\n    <tr style=\"text-align: right;\">\n      <th></th>\n      <th>x</th>\n      <th>y</th>\n    </tr>\n  </thead>\n  <tbody>\n    <tr>\n      <th>0</th>\n      <td>0.01265</td>\n      <td>-0.000050</td>\n    </tr>\n    <tr>\n      <th>1</th>\n      <td>0.01265</td>\n      <td>-0.000050</td>\n    </tr>\n    <tr>\n      <th>2</th>\n      <td>0.01265</td>\n      <td>-0.000050</td>\n    </tr>\n    <tr>\n      <th>3</th>\n      <td>0.01265</td>\n      <td>-0.000050</td>\n    </tr>\n    <tr>\n      <th>4</th>\n      <td>0.01265</td>\n      <td>-0.000050</td>\n    </tr>\n    <tr>\n      <th>...</th>\n      <td>...</td>\n      <td>...</td>\n    </tr>\n    <tr>\n      <th>17746994</th>\n      <td>0.90000</td>\n      <td>-4.407665</td>\n    </tr>\n    <tr>\n      <th>17746995</th>\n      <td>0.90000</td>\n      <td>-4.407667</td>\n    </tr>\n    <tr>\n      <th>17746996</th>\n      <td>0.90000</td>\n      <td>-4.407668</td>\n    </tr>\n    <tr>\n      <th>17746997</th>\n      <td>0.90000</td>\n      <td>-4.407670</td>\n    </tr>\n    <tr>\n      <th>17746998</th>\n      <td>0.90000</td>\n      <td>-4.407672</td>\n    </tr>\n  </tbody>\n</table>\n<p>17746999 rows × 2 columns</p>\n</div>"
     },
     "execution_count": 78,
     "metadata": {},
     "output_type": "execute_result"
    }
   ],
   "source": [
    "x_simpson = np.arange(a, b, h_simpson)\n",
    "\n",
    "s_simpson = tail\n",
    "table_trapezoid = pd.DataFrame(columns=['x', 'y'])\n",
    "\n",
    "simpson_sums = []\n",
    "for i in range(len(x_simpson) - 1):\n",
    "    s_simpson += (f(x_simpson[i + 1]) + 4 * f((x_simpson[i + 1] + x_simpson[i]) / 2) + f(\n",
    "        x_simpson[i])) / 6 * (x_simpson[i + 1] - x_simpson[i])\n",
    "    simpson_sums.append(s_simpson)\n",
    "\n",
    "print(f'Интеграл методом Симпсона {round(s_simpson, 4)}')\n",
    "print(f'Фактическая погрешность {abs(int_true - s_simpson)}')\n",
    "\n",
    "table_simpson = pd.DataFrame({'x': x_simpson[1:], 'y': simpson_sums})\n",
    "table_simpson"
   ],
   "metadata": {
    "collapsed": false,
    "ExecuteTime": {
     "end_time": "2025-03-06T18:46:51.279859500Z",
     "start_time": "2025-03-06T18:45:08.570132400Z"
    }
   },
   "id": "a5a3042abdba283b"
  },
  {
   "cell_type": "markdown",
   "source": [
    "##### Оценка погрешности правилом Рунге\n",
    "\n",
    "\\begin{equation}\n",
    "p = log_2 (\\frac{ \\left| S_h - S_{2h} \\right|}{\\epsilon} + 1)\n",
    "\\end{equation}"
   ],
   "metadata": {
    "collapsed": false
   },
   "id": "b17ec5e8ee039437"
  },
  {
   "cell_type": "code",
   "execution_count": 74,
   "outputs": [
    {
     "name": "stdout",
     "output_type": "stream",
     "text": [
      "Оценка погрешности правилом Рунге - 0.023833138048193196\n"
     ]
    }
   ],
   "source": [
    "x_simpson_2h = np.arange(a, b, 2 * h_simpson)\n",
    "\n",
    "s_simpson_2h = tail\n",
    "\n",
    "for i in range(len(x_simpson_2h) - 1):\n",
    "    s_simpson_2h += (f(x_simpson_2h[i + 1]) + 4 * f((x_simpson_2h[i + 1] + x_simpson_2h[i]) / 2) + f(\n",
    "        x_simpson_2h[i])) / 6 * (x_simpson_2h[i + 1] - x_simpson_2h[i])\n",
    "\n",
    "p_simpson_rect = np.log2(abs(s_simpson_2h - s_simpson) / eps + 1)\n",
    "\n",
    "print(f'Оценка погрешности правилом Рунге - {p_simpson_rect}')"
   ],
   "metadata": {
    "collapsed": false,
    "ExecuteTime": {
     "end_time": "2025-03-06T18:43:37.637488300Z",
     "start_time": "2025-03-06T18:42:48.130255500Z"
    }
   },
   "id": "fa6bdc0414523fb7"
  },
  {
   "cell_type": "code",
   "execution_count": 82,
   "outputs": [
    {
     "data": {
      "text/plain": "                       Метод  Погрешность  Погрешность по Рунгe\n0        Левый прямоугольник     0.000029              0.035601\n1       Правый прямоугольник     0.000027              0.058851\n2  Центральный прямоугольник     0.000028              0.023833\n3                   Трапеция     0.000028              0.023833\n4                    Симпсон     0.000028              0.023833",
      "text/html": "<div>\n<style scoped>\n    .dataframe tbody tr th:only-of-type {\n        vertical-align: middle;\n    }\n\n    .dataframe tbody tr th {\n        vertical-align: top;\n    }\n\n    .dataframe thead th {\n        text-align: right;\n    }\n</style>\n<table border=\"1\" class=\"dataframe\">\n  <thead>\n    <tr style=\"text-align: right;\">\n      <th></th>\n      <th>Метод</th>\n      <th>Погрешность</th>\n      <th>Погрешность по Рунгe</th>\n    </tr>\n  </thead>\n  <tbody>\n    <tr>\n      <th>0</th>\n      <td>Левый прямоугольник</td>\n      <td>0.000029</td>\n      <td>0.035601</td>\n    </tr>\n    <tr>\n      <th>1</th>\n      <td>Правый прямоугольник</td>\n      <td>0.000027</td>\n      <td>0.058851</td>\n    </tr>\n    <tr>\n      <th>2</th>\n      <td>Центральный прямоугольник</td>\n      <td>0.000028</td>\n      <td>0.023833</td>\n    </tr>\n    <tr>\n      <th>3</th>\n      <td>Трапеция</td>\n      <td>0.000028</td>\n      <td>0.023833</td>\n    </tr>\n    <tr>\n      <th>4</th>\n      <td>Симпсон</td>\n      <td>0.000028</td>\n      <td>0.023833</td>\n    </tr>\n  </tbody>\n</table>\n</div>"
     },
     "execution_count": 82,
     "metadata": {},
     "output_type": "execute_result"
    }
   ],
   "source": [
    "error_table = pd.DataFrame(\n",
    "    {\"Метод\": ['Левый прямоугольник', 'Правый прямоугольник', 'Центральный прямоугольник', 'Трапеция', 'Симпсон'],\n",
    "     \"Погрешность\": [s_left - int_true, s_right - int_true, s_center - int_true, \n",
    "                     s_trapezoid - int_true, s_simpson - int_true],\n",
    "     \"Погрешность по Рунгe\": [p_left, p_right, p_center, p_trapezoid, p_simpson_rect]})\n",
    "error_table\n"
   ],
   "metadata": {
    "collapsed": false,
    "ExecuteTime": {
     "end_time": "2025-03-06T18:50:53.788708600Z",
     "start_time": "2025-03-06T18:50:53.775710200Z"
    }
   },
   "id": "5aa8a25fe9e10012"
  },
  {
   "cell_type": "markdown",
   "source": [
    "#### Вывод\n",
    "\n",
    "Посчитали интеграл пятью методами (левых прямоугольников, правых прямоугольников, центральных прямоугольников, трапеций и Симпсона). \n",
    "Каждый из методов вычислил интеграл с погрешностью меньшей, чем заданная.\n",
    "\n",
    "Также были оценены погрешности правилом Рунге. Наименьшая погрешность по правилу Рунге у методов\n",
    "Центральных прямоугольников\n",
    "Трапеций\n",
    "Симпсона \n",
    "А наибольшая у метода правых прямоугольников. То есть, метод правых прямоугольников сходится медленней всех остальных.\n",
    "Также было выявлено, что лучше брать шаг разбиения настолько маленьким, насколько этого позволяют вычислительные мощности. Иначе погрешность правилом Рунге оказывается слишком большой "
   ],
   "metadata": {
    "collapsed": false
   },
   "id": "3c2fabe4fa938047"
  }
 ],
 "metadata": {
  "kernelspec": {
   "display_name": "Python 3",
   "language": "python",
   "name": "python3"
  },
  "language_info": {
   "codemirror_mode": {
    "name": "ipython",
    "version": 2
   },
   "file_extension": ".py",
   "mimetype": "text/x-python",
   "name": "python",
   "nbconvert_exporter": "python",
   "pygments_lexer": "ipython2",
   "version": "2.7.6"
  }
 },
 "nbformat": 4,
 "nbformat_minor": 5
}
