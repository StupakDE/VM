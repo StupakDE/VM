{
 "cells": [
  {
   "cell_type": "markdown",
   "source": [
    "## Московский Физико-технический Институт\n",
    "\n",
    "# Лабораторная работа №3\n",
    "\n",
    "# \"Интерполяция\"\n",
    "\n",
    "_Выполнил:_\n",
    "_Ступак Дмитрий_ \n",
    "_Б03-207_\n",
    "\n",
    "Долгопрудный, 2024"
   ],
   "metadata": {
    "collapsed": false
   },
   "id": "c9de20c40218d6ed"
  },
  {
   "cell_type": "markdown",
   "source": [
    "# Постановка задачи\n",
    "## Вариант 10\n",
    "\n",
    "### Для функции, заданной таблично, найти значение производной в указанной точке с максимальной возможной точностью с помощью интерполяции.\n",
    "\n",
    "\n",
    "$$\n",
    "\\[ f'(3)\\]\n",
    "\n",
    "\\[\n",
    "\\begin{array}{|c|c|c|c|c|c|}\n",
    "\\hline\n",
    "x & x_1=0 & x_2=2 & x_3=3 & x_4=5 & x_5=7 \\\\\n",
    "\\hline\n",
    "f(x) & -1 & 0 & 2 & 3 & 5 \\\\\n",
    "\\hline\n",
    "\\end{array}\n",
    "\\]\n",
    "\n",
    "$$\n",
    "\n",
    "### Использовать интерполяционные полиномы в форме Ньютона и Лагранжа.\n"
   ],
   "metadata": {
    "collapsed": false
   },
   "id": "bfcfb5bf38022123"
  },
  {
   "cell_type": "markdown",
   "source": [
    "## 1.описание построения интерполяционного полинома Лагранжа\n",
    "\n",
    "Интерполяционный полином Лагранжа для набора точек $\\((x_1, y_1), (x_2, y_2), ..., (x_n, y_n)\\)$\n",
    "\n",
    "$$\n",
    "L(x) = \\sum_{i=0}^{n-1} y_i \\cdot l_i(x)\n",
    "$$\n",
    "\n",
    "где $\\(l_i(x)\\)$ — базисные полиномы:\n",
    "\n",
    "$$\n",
    "l_i(x) = \\prod_{j=0, j \\neq i}^{n-1} \\frac{x - x_j}{x_i - x_j}\n",
    "$$\n",
    "\n",
    "**Производная полинома Лагранжа**\n",
    "Чтобы вычислить производную $\\(L'(x)\\)$, нужно найти производные базисных полиномов $\\(l_i(x)\\)$.\n",
    "\n",
    "Производная базисного полинома $\\(l_i(x)\\)$:\n",
    "\n",
    "$$\n",
    "l_i'(x) = \\sum_{k=0, k \\neq i}^{n-1} \\left( \\prod_{j=0, j \\neq i, j \\neq k}^{n-1} \\frac{x - x_j}{x_i - x_j} \\cdot \\frac{1}{x_i - x_k} \\right)\n",
    "$$\n",
    "\n",
    "**Теперь полная производная** $\\(L'(x)\\)$:\n",
    "\n",
    "$$\n",
    "L'(x) = \\sum_{i=0}^{n-1} y_i \\cdot l_i'(x)\n",
    "$$\n"
   ],
   "metadata": {
    "collapsed": false
   },
   "id": "2721cc7f5e73f30f"
  },
  {
   "cell_type": "code",
   "execution_count": 27,
   "id": "initial_id",
   "metadata": {
    "collapsed": true,
    "ExecuteTime": {
     "end_time": "2024-12-09T16:36:34.505770500Z",
     "start_time": "2024-12-09T16:36:34.497909800Z"
    }
   },
   "outputs": [],
   "source": [
    "import numpy as np\n",
    "import matplotlib.pyplot as plt"
   ]
  },
  {
   "cell_type": "code",
   "execution_count": 28,
   "outputs": [],
   "source": [
    "x_values = np.array([0, 2, 3, 5, 7])\n",
    "y_values = np.array([-1, 0, 2, 3, 5])"
   ],
   "metadata": {
    "collapsed": false,
    "ExecuteTime": {
     "end_time": "2024-12-09T16:36:35.034966200Z",
     "start_time": "2024-12-09T16:36:35.029255400Z"
    }
   },
   "id": "b100ac3f15af6450"
  },
  {
   "cell_type": "markdown",
   "source": [
    "## Для нашей задачи\n",
    "### Значения базисных полиномов Лагранжа\n",
    "\n",
    "$$ l_0(x) = \\frac{(x - 2)(x - 3)(x - 5)(x - 7)}{(0 - 2)(0 - 3)(0 - 5)(0 - 7)} $$ $$ l_1(x) = \\frac{(x - 0)(x - 3)(x - 5)(x - 7)}{(2 - 0)(2 - 3)(2 - 5)(2 - 7)} $$ $$ l_2(x) = \\frac{(x - 0)(x - 2)(x - 5)(x - 7)}{(3 - 0)(3 - 2)(3 - 5)(3 - 7)} $$ $$ l_3(x) = \\frac{(x - 0)(x - 2)(x - 3)(x - 7)}{(5 - 0)(5 - 2)(5 - 3)(5 - 7)} $$ $$ l_4(x) = \\frac{(x - 0)(x - 2)(x - 3)(x - 5)}{(7 - 0)(7 - 2)(7 - 3)(7 - 5)} $$\n",
    "\n",
    "### Полином Лагранжа:\n",
    "\n",
    "$$ L(x) = -\\frac{1}{210}(x^4 - 17x^3 + 91x^2 - 175x + 210) + \\frac{2}{24}(x^4 - 14x^3 + 55x^2 - 70x) - \\frac{3}{60}(x^4 - 12x^3 + 32x^2 - 21x) + \\frac{5}{210}(x^4 - 10x^3 + 27x^2 - 35x) $$"
   ],
   "metadata": {
    "collapsed": false
   },
   "id": "e939d7d6bab5b5de"
  },
  {
   "cell_type": "markdown",
   "source": [
    "## График функции"
   ],
   "metadata": {
    "collapsed": false
   },
   "id": "9ded644f4e4d7142"
  },
  {
   "cell_type": "code",
   "execution_count": 29,
   "outputs": [
    {
     "data": {
      "text/plain": "<Figure size 640x480 with 1 Axes>",
      "image/png": "[encoded data removed]"
     },
     "metadata": {},
     "output_type": "display_data"
    }
   ],
   "source": [
    "def lagrange(x, x_val, y_val):\n",
    "    L = 0\n",
    "    n = len(x_val)\n",
    "    for i in range(n):\n",
    "        l = 1\n",
    "        for j in range(n):\n",
    "            if j != i:\n",
    "                l *= ((x - x_val[j]) / (x_val[i] - x_val[j]))\n",
    "        L += y_val[i] * l\n",
    "    return L\n",
    "\n",
    "\n",
    "x_val = [0, 2, 3, 5, 7]\n",
    "y_val = [-1, 0, 2, 3, 5]\n",
    "xl = np.linspace(0, 7, 1000)\n",
    "yl = [lagrange(x, x_val, y_val) for x in xl]\n",
    "plt.plot(x_val, y_val, \"o\", label=\"Дискретное\")\n",
    "plt.plot(xl, yl, ls=\":\", c=\"r\", label=\"Лагранж\")\n",
    "plt.legend()\n",
    "plt.show()"
   ],
   "metadata": {
    "collapsed": false,
    "ExecuteTime": {
     "end_time": "2024-12-09T16:36:35.316695900Z",
     "start_time": "2024-12-09T16:36:35.134508400Z"
    }
   },
   "id": "6cfde5800dcf069a"
  },
  {
   "cell_type": "markdown",
   "source": [
    "## Считаем производную"
   ],
   "metadata": {
    "collapsed": false
   },
   "id": "61ce2c1ef0472c0"
  },
  {
   "cell_type": "code",
   "execution_count": 30,
   "outputs": [],
   "source": [
    "def lagrange_div(x, x_val, y_val):\n",
    "    L = 0\n",
    "    n = len(x_val)\n",
    "    for i in range(n):\n",
    "        l = 0\n",
    "        for j in range(n):\n",
    "            if j != i:\n",
    "                div_i = 1 / (x_val[i] - x_val[j])\n",
    "                for k in range(n):\n",
    "                    if k != i and k != j:\n",
    "                        div_i *= ((x - x_val[k]) / (x_val[i] - x_val[k]))\n",
    "                l += div_i\n",
    "        L += y_val[i] * l\n",
    "    return L"
   ],
   "metadata": {
    "collapsed": false,
    "ExecuteTime": {
     "end_time": "2024-12-09T16:36:35.317713600Z",
     "start_time": "2024-12-09T16:36:35.257862800Z"
    }
   },
   "id": "559d470e34b7340"
  },
  {
   "cell_type": "code",
   "execution_count": 31,
   "outputs": [
    {
     "data": {
      "text/plain": "1.621428571428571"
     },
     "execution_count": 31,
     "metadata": {},
     "output_type": "execute_result"
    }
   ],
   "source": [
    "lagrange_div(3, x_values, y_values)"
   ],
   "metadata": {
    "collapsed": false,
    "ExecuteTime": {
     "end_time": "2024-12-09T16:36:35.317713600Z",
     "start_time": "2024-12-09T16:36:35.262984600Z"
    }
   },
   "id": "4f017bfc0988e15e"
  },
  {
   "cell_type": "markdown",
   "source": [
    "### Таким образом, производная в точке x = 3, вычисленная с помощью полинома Лагранжа, равна 1.621428571428571"
   ],
   "metadata": {
    "collapsed": false
   },
   "id": "56a77ee441b9c550"
  },
  {
   "cell_type": "markdown",
   "source": [
    "## 2. Полином Ньютона\n",
    "\n",
    "Этот метод основан на разделённых разностях и позволяет поэтапно строить многочлен, добавляя новые точки.\n",
    "\n",
    "$$\n",
    "P_n(x) = \\sum_{k=0}^{n} f[x_0, x_1, \\ldots, x_k] \\prod_{j=0}^{k-1} (x - x_j)\n",
    "$$\n",
    "\n",
    "где $\\( f[x_0, x_1, \\ldots, x_k] \\)$ — это разделённые разности, вычисляемые рекурсивно.\n",
    "\n",
    "Полином строится поэтапно:\n",
    "\n",
    "- Первый член — константа $\\( f[x_0] \\)$\n",
    "- Следующий член — линейный: $\\( f[x_0, x_1] (x - x_0) \\)$\n",
    "- Следующий член — квадратный: $\\( f[x_0, x_1, x_2] (x - x_0) (x - x_1) \\)$\n",
    "- И так далее.\n",
    "\n",
    "### Разделённые разности\n",
    "\n",
    "Разделённые разности $\\( f[x_0, x_1, \\ldots, x_k] \\)$ определяются следующим образом:\n",
    "\n",
    "Базовый случай (нулевой порядок):\n",
    "\n",
    "$$\n",
    "f[x_i] = f(x_i)\n",
    "$$\n",
    "\n",
    "Для $\\( k \\)$-го порядка:\n",
    "\n",
    "$$\n",
    "f[x_0, x_1, \\ldots, x_k] = \\frac{f[x_1, x_2, \\ldots, x_k] - f[x_0, x_1, \\ldots, x_{k-1}]}{x_k - x_0}\n",
    "$$\n",
    "\n",
    "### Нахождение производной полинома Ньютона\n",
    "\n",
    "Для производной полинома Ньютона $\\( P'_n(x) \\)$ дифференцируем каждое слагаемое по очереди:\n",
    "\n",
    "$$\n",
    "P'_n(x) = \\frac{d}{dx} \\left( f[x_0] + f[x_0, x_1] (x - x_0) + f[x_0, x_1, x_2] (x - x_0) (x - x_1) + \\ldots \\right)\n",
    "$$\n",
    "\n",
    "$$\n",
    "\\frac{d}{dx} \\left( f[x_0, x_1, \\ldots, x_k] (x - x_0) (x - x_1) \\ldots (x - x_{k-1}) \\right) = f[x_0, x_1, \\ldots, x_k] \\cdot \\frac{d}{dx} \\prod_{j=0}^{k-1} (x - x_j)\n",
    "$$\n",
    "\n",
    "Производная для каждого множителя зависит от порядка $\\( k \\)$, а сами коэффициенты $\\( f[x_0, x_1, \\ldots, x_k] \\)$ остаются неизменными.\n",
    "\n",
    "## Вычисление разделенных разностей\n",
    "\n",
    "Разделенные разности первого порядка:\n",
    "\n",
    "$$\n",
    "f[x_0, x_1] = \\frac{0 - (-1)}{2 - 0} = \\frac{1}{2} = 0.5\n",
    "$$\n",
    "\n",
    "$$\n",
    "f[x_1, x_2] = \\frac{2 - 0}{3 - 2} = \\frac{2}{1} = 2\n",
    "$$\n",
    "\n",
    "$$\n",
    "f[x_2, x_3] = \\frac{3 - 2}{5 - 3} = \\frac{1}{2} = 0.5\n",
    "$$\n",
    "\n",
    "$$\n",
    "f[x_3, x_4] = \\frac{5 - 3}{7 - 5} = \\frac{2}{2} = 1\n",
    "$$\n",
    "\n",
    "Разделенные разности второго порядка:\n",
    "\n",
    "$$\n",
    "f[x_0, x_1, x_2] = \\frac{f[x_1, x_2] - f[x_0, x_1]}{3 - 0} = \\frac{2 - 0.5}{3} = \\frac{1.5}{3} = 0.5\n",
    "$$\n",
    "\n",
    "$$\n",
    "f[x_1, x_2, x_3] = \\frac{f[x_2, x_3] - f[x_1, x_2]}{5 - 2} = \\frac{0.5 - 2}{3} = \\frac{-1.5}{3} = -0.5\n",
    "$$\n",
    "\n",
    "$$\n",
    "f[x_2, x_3, x_4] = \\frac{f[x_3, x_4] - f[x_2, x_3]}{7 - 3} = \\frac{1 - 0.5}{4} = \\frac{0.5}{4} = 0.125\n",
    "$$\n",
    "\n",
    "Разделенные разности третьего порядка:\n",
    "\n",
    "$$\n",
    "f[x_0, x_1, x_2, x_3] = \\frac{f[x_1, x_2, x_3] - f[x_0, x_1, x_2]}{5 - 0} = \\frac{-0.5 - 0.5}{5} = \\frac{-1}{5} = -0.2\n",
    "$$\n",
    "\n",
    "$$\n",
    "f[x_1, x_2, x_3, x_4] = \\frac{f[x_2, x_3, x_4] - f[x_1, x_2, x_3]}{7 - 2} = \\frac{0.125 - (-0.5)}{5} = \\frac{0.625}{5} = 0.125\n",
    "$$\n",
    "\n",
    "Разделенные разности четвертого порядка:\n",
    "\n",
    "$$\n",
    "f[x_0, x_1, x_2, x_3, x_4] = \\frac{f[x_1, x_2, x_3, x_4] - f[x_0, x_1, x_2, x_3]}{7 - 0} = \\frac{0.125 - (-0.2)}{7} = \\frac{0.325}{7} \\approx 0.0464\n",
    "$$\n"
   ],
   "metadata": {
    "collapsed": false
   },
   "id": "fbc4103573ce7fbc"
  },
  {
   "cell_type": "code",
   "execution_count": 32,
   "outputs": [],
   "source": [
    "def newton_interpolation_coefficients(x_val, y_val):\n",
    "    n = len(x_val)\n",
    "    divided_differences = np.zeros((n, n))\n",
    "    divided_differences[:, 0] = y_val\n",
    "\n",
    "    for j in range(1, n):\n",
    "        for i in range(n - j):\n",
    "            divided_differences[i, j] = (divided_differences[i + 1, j - 1] - divided_differences[i, j - 1]) / (x_val[i + j] - x_val[i])\n",
    "\n",
    "    return divided_differences[0]\n",
    "\n",
    "\n",
    "def newton_interpolation(x, x_val, coef):\n",
    "    n = len(coef)\n",
    "    result = coef[0]\n",
    "    product = 1\n",
    "\n",
    "    for i in range(1, n):\n",
    "        product *= (x - x_val[i - 1])\n",
    "        result += coef[i] * product\n",
    "\n",
    "    return result\n",
    "\n",
    "\n",
    "def newton_interpolation_derivative(x, x_val, coef):\n",
    "    n = len(coef)\n",
    "    derivative = 0\n",
    "    product = 1\n",
    "\n",
    "    for i in range(1, n):\n",
    "        term_derivative = coef[i] * i\n",
    "        product_derivative = 0\n",
    "\n",
    "        for j in range(i):\n",
    "            product_inner = 1\n",
    "            for k in range(i):\n",
    "                if k != j:\n",
    "                    product_inner *= (x - x_val[k])\n",
    "            product_derivative += product_inner\n",
    "\n",
    "        derivative += term_derivative * product_derivative / i\n",
    "\n",
    "    return derivative"
   ],
   "metadata": {
    "collapsed": false,
    "ExecuteTime": {
     "end_time": "2024-12-09T16:36:35.487382700Z",
     "start_time": "2024-12-09T16:36:35.343226Z"
    }
   },
   "id": "e9fa0594c3827319"
  },
  {
   "cell_type": "markdown",
   "source": [
    "## График функции"
   ],
   "metadata": {
    "collapsed": false
   },
   "id": "16e36777250300db"
  },
  {
   "cell_type": "code",
   "execution_count": 33,
   "outputs": [
    {
     "data": {
      "text/plain": "<Figure size 640x480 with 1 Axes>",
      "image/png": "[encoded data removed]"
     },
     "metadata": {},
     "output_type": "display_data"
    }
   ],
   "source": [
    "x_val = [0, 2, 3, 5, 7]\n",
    "y_val = [-1, 0, 2, 3, 5]\n",
    "xn = np.linspace(0, 7, 1000)\n",
    "yn = [newton_interpolation(x, x_val, coef) for x in xn]\n",
    "plt.plot(x_val, y_val, \"o\", label=\"Дискретное\")\n",
    "plt.plot(xn, yn, ls=\":\", c=\"g\", label=\"Ньютон\")\n",
    "plt.legend()\n",
    "plt.show()"
   ],
   "metadata": {
    "collapsed": false,
    "ExecuteTime": {
     "end_time": "2024-12-09T16:36:35.939818900Z",
     "start_time": "2024-12-09T16:36:35.479400200Z"
    }
   },
   "id": "5234f9e38ccd3711"
  },
  {
   "cell_type": "markdown",
   "source": [
    "## Считаем производную"
   ],
   "metadata": {
    "collapsed": false
   },
   "id": "5f1bf043a40f0483"
  },
  {
   "cell_type": "code",
   "execution_count": 34,
   "outputs": [
    {
     "name": "stdout",
     "output_type": "stream",
     "text": [
      "Производная полинома Ньютона в точке x=3: 1.6214285714285714\n"
     ]
    }
   ],
   "source": [
    "coef = newton_interpolation_coefficients(x_values, y_values)\n",
    "\n",
    "newton_derivative = newton_interpolation_derivative(3, x_values, coef)\n",
    "print(f\"Производная полинома Ньютона в точке x={3}: {newton_derivative}\")"
   ],
   "metadata": {
    "collapsed": false,
    "ExecuteTime": {
     "end_time": "2024-12-09T16:36:35.939818900Z",
     "start_time": "2024-12-09T16:36:35.608932300Z"
    }
   },
   "id": "bf264026f61281d0"
  },
  {
   "cell_type": "markdown",
   "source": [
    "### Таким образом, производная в точке x = 3, вычисленная с помощью полинома Ньютона, равна 1.6214285714285714"
   ],
   "metadata": {
    "collapsed": false
   },
   "id": "3c1ee0fba466e9c7"
  },
  {
   "cell_type": "markdown",
   "source": [
    "## 3. Вывод\n",
    "С помощью как интерполяционного многочлена Лагранжа, так и интерполяционного многочлена Ньютона, я получил достаточно точные графики, основанные на табличных данных. Также я получил значение производной в заданной точке с большой точностью. Оба метода показали хорошие результаты"
   ],
   "metadata": {
    "collapsed": false
   },
   "id": "d01b9a8bf9495a7e"
  }
 ],
 "metadata": {
  "kernelspec": {
   "display_name": "Python 3",
   "language": "python",
   "name": "python3"
  },
  "language_info": {
   "codemirror_mode": {
    "name": "ipython",
    "version": 2
   },
   "file_extension": ".py",
   "mimetype": "text/x-python",
   "name": "python",
   "nbconvert_exporter": "python",
   "pygments_lexer": "ipython2",
   "version": "2.7.6"
  }
 },
 "nbformat": 4,
 "nbformat_minor": 5
}
