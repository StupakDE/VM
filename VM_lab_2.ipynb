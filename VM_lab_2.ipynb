{
 "cells": [
  {
   "cell_type": "markdown",
   "source": [
    "## Московский Физико-технический Институт\n",
    "\n",
    "# Лабораторная работа №2\n",
    "\n",
    "# \"Численное решение систем нелинейных уравнений\"\n",
    "\n",
    "_Выполнил:_\n",
    "_Ступак Дмитрий_ \n",
    "_Б03-207_\n",
    "\n",
    "Долгопрудный, 2024"
   ],
   "metadata": {
    "collapsed": false
   },
   "id": "5bf9f641dd6bd680"
  },
  {
   "cell_type": "markdown",
   "source": [
    "# 1. Постановка задачи:\n",
    "\n",
    "Получить решение системы уравнений\n",
    "$$\n",
    "\\left\\{\n",
    "\\begin{aligned}\n",
    "& (x - 1.4)^2 + (y - 0.6)^2 = 1 \\\\\n",
    "& 4.2x^2 + 8.8y^2 = 1.4.\n",
    "\\end{aligned}\n",
    "\\right.\n",
    "$$\n",
    "Методами Простой итерации, Ньютона и Наискорейшего спуска с точность $eps = 10^{-5}$"
   ],
   "metadata": {
    "collapsed": false
   },
   "id": "45081531d3c3575d"
  },
  {
   "cell_type": "code",
   "execution_count": 62,
   "id": "initial_id",
   "metadata": {
    "collapsed": true,
    "ExecuteTime": {
     "end_time": "2024-12-09T16:38:07.401963800Z",
     "start_time": "2024-12-09T16:38:07.386115Z"
    }
   },
   "outputs": [],
   "source": [
    "import numpy as np\n",
    "import matplotlib.pyplot as plt\n",
    "import pandas as pd\n",
    "import sympy as sp\n",
    "eps = 10e-5\n",
    "max_iter = 1000"
   ]
  },
  {
   "cell_type": "code",
   "execution_count": 63,
   "outputs": [],
   "source": [
    "def y1(x):\n",
    "    return -(1 - (x - 1.4) ** 2) ** 0.5 + 0.6\n",
    "\n",
    "\n",
    "def y2(x):\n",
    "    return ((1.4 - 4.2 * x ** 2) / 8.8) ** 0.5"
   ],
   "metadata": {
    "collapsed": false,
    "ExecuteTime": {
     "end_time": "2024-12-09T16:38:07.573832Z",
     "start_time": "2024-12-09T16:38:07.540768200Z"
    }
   },
   "id": "abeac7400fb22b88"
  },
  {
   "cell_type": "code",
   "execution_count": 64,
   "outputs": [
    {
     "name": "stderr",
     "output_type": "stream",
     "text": [
      "C:\\Users\\Dmitry\\AppData\\Local\\Temp\\ipykernel_3200\\3008248932.py:2: RuntimeWarning: invalid value encountered in sqrt\n",
      "  return -(1 - (x - 1.4) ** 2) ** 0.5 + 0.6\n",
      "C:\\Users\\Dmitry\\AppData\\Local\\Temp\\ipykernel_3200\\3008248932.py:6: RuntimeWarning: invalid value encountered in sqrt\n",
      "  return ((1.4 - 4.2 * x ** 2) / 8.8) ** 0.5\n"
     ]
    },
    {
     "data": {
      "text/plain": "<Figure size 640x480 with 1 Axes>",
      "image/png": "[encoded data removed]"
     },
     "metadata": {},
     "output_type": "display_data"
    }
   ],
   "source": [
    "x=np.linspace(0.3, 0.6, 5000)\n",
    "z=np.linspace(0.3, 0.6, 5000)\n",
    "plt.figure()\n",
    "plt.grid()\n",
    "plt.plot(x, y1(x), color='b', label=r'$(x - 1.4)^2 + (y - 0.6)^2 = 1$')\n",
    "plt.plot(z, y2(z),color='r',  label=r'$4.2x^2 + 8.8y^2 = 1.4$')\n",
    "plt.legend()\n",
    "plt.xlabel(\"x\")\n",
    "plt.ylabel(\"y\")\n",
    "plt.show()"
   ],
   "metadata": {
    "collapsed": false,
    "ExecuteTime": {
     "end_time": "2024-12-09T16:38:08.013301700Z",
     "start_time": "2024-12-09T16:38:07.674034900Z"
    }
   },
   "id": "71a5c339af023434"
  },
  {
   "cell_type": "markdown",
   "source": [
    "# 2. Локализация решения:\n",
    "_Корни, полученные с помощью Desmos_ \n",
    "* (0.47051, 0.23116)\n",
    "* (0.57517, 0.03462)\n",
    "\n",
    "_Локализация, исходя из графического решения_\n",
    "1 решение: $\\( X \\in (0.4; 0.5) \\), \\( Y \\in (0.2; 0.3) \\)$ \n",
    "2 решение: $\\( X \\in (0.55; 0.65) \\), \\( Y \\in (0; 0.1) \\)$"
   ],
   "metadata": {
    "collapsed": false
   },
   "id": "e1987c1657666ed9"
  },
  {
   "cell_type": "markdown",
   "source": [
    "# 3. Метод Простой Итерации\n",
    "\n",
    "**Формула метода:** \n",
    "\n",
    "$$\n",
    "\\vec{f}(\\vec{x}) = \\vec{0} \\Rightarrow \\vec{x}_{n+1} = \\vec{\\varphi}(\\vec{x})\n",
    "$$\n",
    "\n",
    "**Условие сходимости:** Пусть наши функции $\\(\\varphi(x)\\)$ непрерывно-дифференцируемы в некоторой достаточно малой области \\(G\\), содержащей решение системы.\n",
    "$$\n",
    "\\|M\\| \\leq q < 1, \\quad \\mu_{ij} = \\max_{x \\in G} \\left| \\frac{\\partial \\varphi_i(x)}{\\partial x_j} \\right|\n",
    "$$\n",
    "\n",
    "**Условие достижения заданной точности:** Условие остановки \n",
    "$$\n",
    "|\\vec{x}_{n+1} - \\vec{x}_n| < \\epsilon (1 - q)\n",
    "$$\n",
    "\n",
    "**Для нашей задачи:**\n",
    "\n",
    "$$\n",
    "\\left\\{\n",
    "\\begin{aligned}\n",
    "& x_{n+1} = \\sqrt{\\frac{1.4 - 4.2x_n^2}{8.8}} = \\varphi_1 \\\\\n",
    "& y_{n+1} = -\\sqrt{1 - (y_n - 0.6)^2} + 1.4 = \\varphi_2\n",
    "\\end{aligned}\n",
    "\\right.\n",
    "$$\n",
    "\n",
    "$\n",
    "\\varphi_1, \\varphi_2 \\in C_1(G) \\Rightarrow \\text{Условие сходимости выполняется}\n",
    "$\n",
    "\n",
    "### Построим матрицу M:\n",
    "\n",
    "$$\n",
    "\\frac{\\partial \\varphi_1}{\\partial x} = \\frac{-1.41582x}{\\sqrt{1.4 - 4.2 x^2}}, \\quad \\frac{\\partial \\varphi_1}{\\partial y} = 0, \\quad \\frac{\\partial \\varphi_2}{\\partial x} = 0, \\quad \\frac{\\partial \\varphi_2}{\\partial y} = \\frac{y - 0.6}{\\sqrt{1 - (y - 0.6)^2}}\n",
    "$$\n",
    "\n",
    "$$\n",
    "\\max \\left( \\frac{\\partial \\varphi_1}{\\partial x} = 0.664 \\right), \\quad \\max \\left( \\frac{\\partial \\varphi_2}{\\partial y} = 0.314 \\right)\n",
    "$$\n",
    "\n",
    "$$\n",
    "M = \\begin{pmatrix}\n",
    "0.664 & 0\\\\\n",
    "0 & 0.314\n",
    "\\end{pmatrix}, \\quad \\|M\\| = 0.208 \\quad \\Rightarrow q = 0.208 \\quad \\Rightarrow \\text{метод сходится}\n",
    "$$\n",
    "\n",
    "### Условие остановки:\n",
    "\n",
    "$$\n",
    "|\\vec{x}_{n+1} - \\vec{x}_n| < 8 \\times 10^{-6}\n",
    "$$\n",
    "\n",
    "### Оценка количества итераций:\n",
    "\n",
    "$$\n",
    "q^n \\left( \\frac{\\varepsilon (1 - q)}{\\|\\vec{x}_1 - \\vec{x}_0\\|} \\right) \\Rightarrow n = \\log_q \\left( \\frac{\\varepsilon (1 - q)}{\\|\\vec{x}_1 - \\vec{x}_0\\|} \\right)\n",
    "$$\n",
    "\n",
    "$$\n",
    "\\|\\vec{x}_1 - \\vec{x}_0\\| = \\sqrt{0.2001^2 + 0.2133^2} = 0.29247 \\Rightarrow n = \\log_{0.208} \\left( \\frac{8 \\times 10^{-6}}{0.29247} \\right) = 6.7\n",
    "$$\n",
    "    "
   ],
   "metadata": {
    "collapsed": false
   },
   "id": "5cd9a8bb8990eb98"
  },
  {
   "cell_type": "code",
   "execution_count": 65,
   "outputs": [],
   "source": [
    "def g1(x):\n",
    "    return np.sqrt((1.4 - 4.2 * x**2) / 8.8)\n",
    "\n",
    "\n",
    "def g2(y):\n",
    "    return -np.sqrt(1 - (y - 0.6)**2)  + 1.4"
   ],
   "metadata": {
    "collapsed": false,
    "ExecuteTime": {
     "end_time": "2024-12-09T16:38:08.242899900Z",
     "start_time": "2024-12-09T16:38:08.056642500Z"
    }
   },
   "id": "e033bd6a1148d7e"
  },
  {
   "cell_type": "code",
   "execution_count": 66,
   "outputs": [],
   "source": [
    "def msi(x, y, g1, g2, tol=eps, max_iter = 1000):\n",
    "    val_f = []\n",
    "    val_f.append([round(x.real, 5), round(y.real, 5), g1(y), g2(x), 0])\n",
    "    k = 1\n",
    "    for i in range(max_iter):\n",
    "        k += 1\n",
    "        y0 = y\n",
    "        x0 = x\n",
    "        x = g1(y0)\n",
    "        y = g2(x0)\n",
    "        val_f.append([round(y0.real, 5), round(x0.real, 5), g1(y), g2(x), max(abs(y - y0), abs(x - x0))])\n",
    "        \n",
    "        if max(abs(y - y0), abs(x - x0))  < tol:\n",
    "            break\n",
    "    \n",
    "    if k < max_iter:\n",
    "        return pd.DataFrame(data=val_f, columns=['x', 'y', 'g1(y)', 'g2(x)', 'delta'])\n",
    "    else:\n",
    "        return 'Не сходится'"
   ],
   "metadata": {
    "collapsed": false,
    "ExecuteTime": {
     "end_time": "2024-12-09T16:38:08.448235200Z",
     "start_time": "2024-12-09T16:38:08.346920500Z"
    }
   },
   "id": "f2752ab1afa30317"
  },
  {
   "cell_type": "code",
   "execution_count": 67,
   "outputs": [
    {
     "data": {
      "text/plain": "          x        y     g1(y)     g2(x)     delta\n0   0.45000  0.25000  0.359529  0.411314  0.000000\n1   0.25000  0.45000  0.279904  0.429344  0.161314\n2   0.41131  0.35953  0.266669  0.452615  0.079625\n3   0.42934  0.27990  0.247622  0.457190  0.023271\n4   0.45261  0.26667  0.243578  0.464142  0.019047\n5   0.45719  0.24762  0.237219  0.465675  0.006952\n6   0.46414  0.24358  0.235781  0.468125  0.006358\n7   0.46568  0.23722  0.233454  0.468687  0.002450\n8   0.46813  0.23578  0.232916  0.469600  0.002327\n9   0.46869  0.23345  0.232036  0.469812  0.000914\n10  0.46960  0.23292  0.231831  0.470160  0.000880\n11  0.46981  0.23204  0.231494  0.470241  0.000348\n12  0.47016  0.23183  0.231416  0.470375  0.000337\n13  0.47024  0.23149  0.231286  0.470406  0.000133\n14  0.47037  0.23142  0.231256  0.470457  0.000129\n15  0.47041  0.23129  0.231206  0.470469  0.000051",
      "text/html": "<div>\n<style scoped>\n    .dataframe tbody tr th:only-of-type {\n        vertical-align: middle;\n    }\n\n    .dataframe tbody tr th {\n        vertical-align: top;\n    }\n\n    .dataframe thead th {\n        text-align: right;\n    }\n</style>\n<table border=\"1\" class=\"dataframe\">\n  <thead>\n    <tr style=\"text-align: right;\">\n      <th></th>\n      <th>x</th>\n      <th>y</th>\n      <th>g1(y)</th>\n      <th>g2(x)</th>\n      <th>delta</th>\n    </tr>\n  </thead>\n  <tbody>\n    <tr>\n      <th>0</th>\n      <td>0.45000</td>\n      <td>0.25000</td>\n      <td>0.359529</td>\n      <td>0.411314</td>\n      <td>0.000000</td>\n    </tr>\n    <tr>\n      <th>1</th>\n      <td>0.25000</td>\n      <td>0.45000</td>\n      <td>0.279904</td>\n      <td>0.429344</td>\n      <td>0.161314</td>\n    </tr>\n    <tr>\n      <th>2</th>\n      <td>0.41131</td>\n      <td>0.35953</td>\n      <td>0.266669</td>\n      <td>0.452615</td>\n      <td>0.079625</td>\n    </tr>\n    <tr>\n      <th>3</th>\n      <td>0.42934</td>\n      <td>0.27990</td>\n      <td>0.247622</td>\n      <td>0.457190</td>\n      <td>0.023271</td>\n    </tr>\n    <tr>\n      <th>4</th>\n      <td>0.45261</td>\n      <td>0.26667</td>\n      <td>0.243578</td>\n      <td>0.464142</td>\n      <td>0.019047</td>\n    </tr>\n    <tr>\n      <th>5</th>\n      <td>0.45719</td>\n      <td>0.24762</td>\n      <td>0.237219</td>\n      <td>0.465675</td>\n      <td>0.006952</td>\n    </tr>\n    <tr>\n      <th>6</th>\n      <td>0.46414</td>\n      <td>0.24358</td>\n      <td>0.235781</td>\n      <td>0.468125</td>\n      <td>0.006358</td>\n    </tr>\n    <tr>\n      <th>7</th>\n      <td>0.46568</td>\n      <td>0.23722</td>\n      <td>0.233454</td>\n      <td>0.468687</td>\n      <td>0.002450</td>\n    </tr>\n    <tr>\n      <th>8</th>\n      <td>0.46813</td>\n      <td>0.23578</td>\n      <td>0.232916</td>\n      <td>0.469600</td>\n      <td>0.002327</td>\n    </tr>\n    <tr>\n      <th>9</th>\n      <td>0.46869</td>\n      <td>0.23345</td>\n      <td>0.232036</td>\n      <td>0.469812</td>\n      <td>0.000914</td>\n    </tr>\n    <tr>\n      <th>10</th>\n      <td>0.46960</td>\n      <td>0.23292</td>\n      <td>0.231831</td>\n      <td>0.470160</td>\n      <td>0.000880</td>\n    </tr>\n    <tr>\n      <th>11</th>\n      <td>0.46981</td>\n      <td>0.23204</td>\n      <td>0.231494</td>\n      <td>0.470241</td>\n      <td>0.000348</td>\n    </tr>\n    <tr>\n      <th>12</th>\n      <td>0.47016</td>\n      <td>0.23183</td>\n      <td>0.231416</td>\n      <td>0.470375</td>\n      <td>0.000337</td>\n    </tr>\n    <tr>\n      <th>13</th>\n      <td>0.47024</td>\n      <td>0.23149</td>\n      <td>0.231286</td>\n      <td>0.470406</td>\n      <td>0.000133</td>\n    </tr>\n    <tr>\n      <th>14</th>\n      <td>0.47037</td>\n      <td>0.23142</td>\n      <td>0.231256</td>\n      <td>0.470457</td>\n      <td>0.000129</td>\n    </tr>\n    <tr>\n      <th>15</th>\n      <td>0.47041</td>\n      <td>0.23129</td>\n      <td>0.231206</td>\n      <td>0.470469</td>\n      <td>0.000051</td>\n    </tr>\n  </tbody>\n</table>\n</div>"
     },
     "execution_count": 67,
     "metadata": {},
     "output_type": "execute_result"
    }
   ],
   "source": [
    "x, y = 0.45, 0.25\n",
    "msi(x, y, g1, g2)   "
   ],
   "metadata": {
    "collapsed": false,
    "ExecuteTime": {
     "end_time": "2024-12-09T16:38:08.492577900Z",
     "start_time": "2024-12-09T16:38:08.401939700Z"
    }
   },
   "id": "e9b9fff7a65b5a03"
  },
  {
   "cell_type": "markdown",
   "source": [
    "#### За 16 итераций МПИ получили ответ (0.47041,0.23129), что с высокой точностью совпадает с реальными значениями"
   ],
   "metadata": {
    "collapsed": false
   },
   "id": "f08ffda0e197cce"
  },
  {
   "cell_type": "markdown",
   "source": [
    "# 4.Метод Ньютона\n",
    "## Формула метода:\n",
    "\n",
    "$$\n",
    "\\vec{f}(\\vec{x}^*) = \\vec{0} = \\vec{f}(\\vec{x}_n) + \\vec{f}'_x(\\vec{x}^*)(\\vec{\\xi})(\\vec{x}^* - \\vec{x}_n)\n",
    "$$\n",
    "\n",
    "$$\n",
    "\\vec{x}_{n+1} = \\vec{x}_n - (\\vec{f}'_x)^{-1}_n(\\vec{x}_n), \\quad n = 0, 1, 2...\n",
    "$$\n",
    "\n",
    "## Условие сходимости:\n",
    "\n",
    "Th о сходимости: $\\( f_i(\\vec{x}) \\)$ непрерывна в месте с 1 производной в $\\( G \\)$, содержащей решение системы $\\( \\Rightarrow \\exists \\)$ окр-сть $\\( R \\)$, в которой $\\( R = \\left\\{ \\|\\vec{x}^* - \\vec{x}\\| < \\delta \\right\\} \\)$, что при $\\( \\forall \\vec{x}_0 \\in R \\)$ последовательность приближений в методе Ньютона сходится к решению $\\( \\vec{x}^* \\)$.\n",
    "\n",
    "## Для нашей задачи:\n",
    "\n",
    "$$\n",
    "\\begin{cases}\n",
    "f_1 = (x - 1.4)^2 + (y - 0.6)^2 - 1 \\\\\n",
    "f_2 = 4.2x^2 + 8.8y^2 - 1.4\n",
    "\\end{cases}\n",
    "$$\n",
    "\n",
    "Матрица Якоби:\n",
    "\n",
    "$$\n",
    "\\left( \\begin{array}{cc}\n",
    "2(x-1) & 2(y-0.6) \\\\\n",
    "8.4x & 17.6y\n",
    "\\end{array} \\right) = \\frac{\\partial F}{\\partial \\vec{\\xi}}\n",
    "$$\n",
    "\n",
    "Обратная матрица Якоби:\n",
    "\n",
    "$$\n",
    "\\left( \\frac{\\partial F}{\\partial \\vec{\\xi}} \\right)^{-1} = \\frac{1}{18.4xy + 10.08x - 49.28y} \\left( \\begin{array}{cc}\n",
    "17.6y & -2(y-0.6) \\\\\n",
    "-8.4x & 2(x-1)\n",
    "\\end{array} \\right)\n",
    "$$\n",
    "\n",
    "## Сходимость:\n",
    "\n",
    "Метод сходится, так как $\\( f_1, f_2 \\)$ непрерывны вместе со всеми своими производными в $\\( R^2 \\)$.\n",
    "\n",
    "$$\n",
    "\\begin{pmatrix}\n",
    "x_{n+1} \\\\\n",
    "y_{n+1}\n",
    "\\end{pmatrix}\n",
    "=\n",
    "\\begin{pmatrix}\n",
    "x_n \\\\\n",
    "y_n\n",
    "\\end{pmatrix}\n",
    "-\n",
    "\\frac{1}{18.4y_n^2 + 10.08x_n - 49.28y_n}\n",
    "\\begin{pmatrix}\n",
    "17.6y_n & -2(y_n-0.6) \\\\\n",
    "-8.4x_n & 2(x_n-1)\n",
    "\\end{pmatrix}\n",
    "\\begin{pmatrix}\n",
    "(x_n - 1.4)^2 + (y_n - 0.6)^2 - 1 \\\\\n",
    "4.2x_n^2 + 8.8y_n^2 - 1.4\n",
    "\\end{pmatrix}\n",
    "$$\n",
    "\n",
    "\n",
    "$$\n",
    "x_{n+1} = x_n - \\left( \\frac{1}{18.4 x_n y_n + 10.08 x_n - 49.28 y_n} \\right) \\left( 17.6 y_n ((x_n - 1.4)^2 + (y_n - 0.6)^2 - 1) - 2 (y_n - 0.6) \\left( 4.2 x_n^2 + 8.8 y_n^2 - 1.4 \\right) \\right)\n",
    "$$\n",
    "\n",
    "$$\n",
    "y_{n+1} = y_n - \\left( \\frac{1}{18.4 x_n y_n + 10.08 x_n - 49.28 y_n} \\right) \\left( -8.4 x_n ((x_n - 1.4)^2 + (y_n - 0.6)^2 - 1) + 2 (x_n - 1.4) \\left( 4.2 x_n^2 + 8.8 y_n^2 - 1.4 \\right) \\right)\n",
    "$$\n",
    "\n"
   ],
   "metadata": {
    "collapsed": false
   },
   "id": "ad25d338e2599e2f"
  },
  {
   "cell_type": "code",
   "execution_count": 68,
   "outputs": [],
   "source": [
    "def f1(x, y):\n",
    "    return (x - 1.4) ** 2 + (y - 0.6) ** 2 - 1\n",
    "\n",
    "\n",
    "def f2(x, y):\n",
    "    return 4.2 * x ** 2 + 8.8 * y ** 2 - 1.4"
   ],
   "metadata": {
    "collapsed": false,
    "ExecuteTime": {
     "end_time": "2024-12-09T16:38:10.388989800Z",
     "start_time": "2024-12-09T16:38:10.370405900Z"
    }
   },
   "id": "f3ff38b405457ecf"
  },
  {
   "cell_type": "code",
   "execution_count": 69,
   "outputs": [],
   "source": [
    "def newton(x, y, f1, f2, tol=eps, max_iter = 1000):\n",
    "    val_f = []\n",
    "    val_f.append([round(x.real, 5), round(y.real, 5), g1(y), g2(x), 0])\n",
    "    k = 1\n",
    "    for i in range(max_iter):\n",
    "        k += 1\n",
    "        y0 = y\n",
    "        x0 = x\n",
    "        x = x -(1 / (18.4 * x * y + 10.08 * x - 49.28 * y)) * (17.6 * y * f1(x, y) - 2 *(y - 0.6) * f2(x, y))\n",
    "        y = y -(1 / (18.4 * x * y + 10.08 * x - 49.28 * y)) * (-8.4 * x * f1(x, y) + 2 * (x - 1.4) * f2(x, y))\n",
    "        val_f.append([round(x0.real, 5), round(y0.real, 5), g1(y), g2(x), max(abs(y - y0), abs(x - x0))])\n",
    "        \n",
    "        if max(abs(y - y0), abs(x - x0))  < tol:\n",
    "            break\n",
    "    \n",
    "    if k < max_iter:\n",
    "        return pd.DataFrame(data=val_f, columns=['x', 'y', 'f1(x, y)', 'f2(x, y)', 'delta'])\n",
    "    else:\n",
    "        return 'Не сходится'"
   ],
   "metadata": {
    "collapsed": false,
    "ExecuteTime": {
     "end_time": "2024-12-09T16:38:10.972726400Z",
     "start_time": "2024-12-09T16:38:10.939363500Z"
    }
   },
   "id": "b9793201919ebea7"
  },
  {
   "cell_type": "code",
   "execution_count": 70,
   "outputs": [
    {
     "data": {
      "text/plain": "         x        y  f1(x, y)  f2(x, y)     delta\n0  0.45000  0.25000  0.359529  0.411314  0.000000\n1  0.45000  0.25000  0.365095  0.408576  0.019312\n2  0.46931  0.23249  0.365496  0.408420  0.001324\n3  0.47050  0.23116  0.365498  0.408419  0.000008",
      "text/html": "<div>\n<style scoped>\n    .dataframe tbody tr th:only-of-type {\n        vertical-align: middle;\n    }\n\n    .dataframe tbody tr th {\n        vertical-align: top;\n    }\n\n    .dataframe thead th {\n        text-align: right;\n    }\n</style>\n<table border=\"1\" class=\"dataframe\">\n  <thead>\n    <tr style=\"text-align: right;\">\n      <th></th>\n      <th>x</th>\n      <th>y</th>\n      <th>f1(x, y)</th>\n      <th>f2(x, y)</th>\n      <th>delta</th>\n    </tr>\n  </thead>\n  <tbody>\n    <tr>\n      <th>0</th>\n      <td>0.45000</td>\n      <td>0.25000</td>\n      <td>0.359529</td>\n      <td>0.411314</td>\n      <td>0.000000</td>\n    </tr>\n    <tr>\n      <th>1</th>\n      <td>0.45000</td>\n      <td>0.25000</td>\n      <td>0.365095</td>\n      <td>0.408576</td>\n      <td>0.019312</td>\n    </tr>\n    <tr>\n      <th>2</th>\n      <td>0.46931</td>\n      <td>0.23249</td>\n      <td>0.365496</td>\n      <td>0.408420</td>\n      <td>0.001324</td>\n    </tr>\n    <tr>\n      <th>3</th>\n      <td>0.47050</td>\n      <td>0.23116</td>\n      <td>0.365498</td>\n      <td>0.408419</td>\n      <td>0.000008</td>\n    </tr>\n  </tbody>\n</table>\n</div>"
     },
     "execution_count": 70,
     "metadata": {},
     "output_type": "execute_result"
    }
   ],
   "source": [
    "x, y = 0.45, 0.25\n",
    "newton(x, y, f1, f2) "
   ],
   "metadata": {
    "collapsed": false,
    "ExecuteTime": {
     "end_time": "2024-12-09T16:38:11.386055200Z",
     "start_time": "2024-12-09T16:38:11.343357700Z"
    }
   },
   "id": "be949a39d8b3ccb4"
  },
  {
   "cell_type": "markdown",
   "source": [
    "#### За 3 итераций метода Ньютона получили ответ (0.47050,0.23116), что с высокой точностью совпадает с реальными значениями"
   ],
   "metadata": {
    "collapsed": false
   },
   "id": "2afba458f2d74da1"
  },
  {
   "cell_type": "markdown",
   "source": [
    "## 5. Метод наискорейшего спуска\n",
    "\n",
    "### Формулы метода:\n",
    "\n",
    "$$ \n",
    "F(\\vec{x}) = \\sum_{i=1}^{n} f_i^2(\\vec{x}) \n",
    "$$\n",
    "\n",
    "### Минимум функции в направлении антиградиента:\n",
    "\n",
    "$$ \n",
    "x_i^{k+1} = x_i^k - \\lambda_k \\frac{\\partial F(\\vec{x}^k)}{\\partial x_i} \\quad\n",
    "$$\n",
    "\n",
    "### Метод выбора:\n",
    "\n",
    "$$ \n",
    "\\lambda^k: \\lambda^k = \\frac{F(\\vec{x}^k)}{\\sum_{i=1}^{n} \\left[ \\frac{\\partial F(\\vec{x}^k)}{\\partial x_i} \\right]^2} \n",
    "$$\n",
    "\n",
    "### Для нашей задачи:\n",
    "\n",
    "$$\n",
    "\\begin{cases}\n",
    "f_1 = (x - 1.4)^2 + (y - 0.6)^2 - 1 \\\\\n",
    "f_2 = 4.2x^2 + 8.8y^2 - 1.4\n",
    "\\end{cases}\n",
    "$$\n",
    "\n",
    "\n",
    "$$ \n",
    "F(x, y) = ((x - 1.4)^2 + (y - 0.6)^2 - 1)^2 + (4.2x^2 + 8.8y^2 - 1.4)^2 \n",
    "$$\n",
    "\n",
    "$$ \n",
    "\\frac{\\partial F}{\\partial x} = x \\cdot (70.56 \\cdot x^2 + 147.84 \\cdot y^2 - 23.52) + 4 \\cdot (x - 1.4) \\cdot ((x - 1.4)^2 + (y - 0.6)^2 - 1) \n",
    "$$\n",
    "\n",
    "$$ \n",
    "\\frac{\\partial F}{\\partial y} = x \\cdot (70.56 \\cdot x^2 + 147.84 \\cdot y^2 - 23.52) + 4 \\cdot (x - 1.4) \\cdot ((x - 1.4)^2 + (y - 0.6)^2 - 1)\n",
    "$$\n",
    "    \n",
    "$$\n",
    "\\lambda_k = \\frac{((x - 1.4)^2 + (y - 0.6)^2 - 1)^2 + (4.2 x^2 + 8.8 y^2 - 1.4)^2}{(x (70.56 x^2 + 147.84 y^2 - 23.52) + 4 (x - 1.4) ((x - 1.4)^2 + (y - 0.6)^2 - 1))^2 + (x (6.72 - 11.2 y) + x^2 (151.84 y - 2.4) + 313.76 y^3 - 7.2 y^2 - 41.12 y - 3.168)^2}\n",
    "$$\n"
   ],
   "metadata": {
    "collapsed": false
   },
   "id": "1c75df1ee62d1b19"
  },
  {
   "cell_type": "code",
   "execution_count": 71,
   "outputs": [],
   "source": [
    "def dF_dx(x, y):\n",
    "    return x * (70.56 * x ** 2 + 147.84 * y ** 2 - 23.52) + 4 * (x - 1.4) * ((x - 1.4) ** 2 + (y - 0.6) ** 2 - 1)\n",
    "\n",
    "\n",
    "def dF_dy(x, y):\n",
    "    return x * (6.72 - 11.2 * y) + x ** 2 *(151.84 * y - 2.4) + 313.76 * y ** 3 - 7.2 * y ** 2 - 41.12 * y - 3.168"
   ],
   "metadata": {
    "collapsed": false,
    "ExecuteTime": {
     "end_time": "2024-12-09T16:38:15.176495100Z",
     "start_time": "2024-12-09T16:38:15.152750900Z"
    }
   },
   "id": "6f7aaebc01f274e2"
  },
  {
   "cell_type": "code",
   "execution_count": 72,
   "outputs": [],
   "source": [
    "def msd(x, y, f1, f2, tol=eps, max_iter = 1000):\n",
    "    val_f = []\n",
    "    val_f.append([round(x.real, 5), round(y.real, 5), g1(y), g2(x), 0])\n",
    "    k = 1\n",
    "    for i in range(max_iter):\n",
    "        k += 1\n",
    "        y0 = y\n",
    "        x0 = x\n",
    "        lam_k = (f1(x, y)**2 + f2(x, y)**2) / (dF_dx(x, y)**2 + dF_dy(x, y)**2)\n",
    "        x = x-lam_k * dF_dx(x, y)\n",
    "        y = y-lam_k * dF_dy(x, y)\n",
    "        val_f.append([round(x0.real, 5), round(y0.real, 5), g1(y), g2(x), max(abs(y - y0), abs(x - x0))])\n",
    "        \n",
    "        if max(abs(y - y0), abs(x - x0))  < tol:\n",
    "            break\n",
    "    \n",
    "    if k < max_iter:\n",
    "        return pd.DataFrame(data=val_f, columns=['x', 'y', 'f1(x, y)', 'f2(x, y)', 'delta'])\n",
    "    else:\n",
    "        return 'Не сходится'"
   ],
   "metadata": {
    "collapsed": false,
    "ExecuteTime": {
     "end_time": "2024-12-09T16:38:15.431151900Z",
     "start_time": "2024-12-09T16:38:15.397159800Z"
    }
   },
   "id": "26d950be1972f500"
  },
  {
   "cell_type": "code",
   "execution_count": 73,
   "outputs": [
    {
     "name": "stderr",
     "output_type": "stream",
     "text": [
      "C:\\Users\\Dmitry\\AppData\\Local\\Temp\\ipykernel_3200\\4253167260.py:2: RuntimeWarning: invalid value encountered in sqrt\n",
      "  return np.sqrt((1.4 - 4.2 * x**2) / 8.8)\n"
     ]
    },
    {
     "data": {
      "text/plain": "           x        y  f1(x, y)  f2(x, y)     delta\n0    0.45000  0.25000  0.359529  0.411314  0.000000\n1    0.45000  0.25000  0.363699  0.410399  0.012973\n2    0.45616  0.23703  0.363195  0.410034  0.002534\n3    0.45869  0.23864  0.362925  0.409800  0.001649\n4    0.46034  0.23950  0.362870  0.409595  0.001462\n..       ...      ...       ...       ...       ...\n125  0.46968  0.22961  0.365834  0.408449  0.000603\n126  0.47029  0.23004  0.365761  0.408405  0.000337\n127  0.47062  0.23028  0.365720  0.408380  0.000190\n128  0.47081  0.23042  0.365695  0.408365  0.000110\n129  0.47092  0.23050  0.365678  0.408356  0.000071\n\n[130 rows x 5 columns]",
      "text/html": "<div>\n<style scoped>\n    .dataframe tbody tr th:only-of-type {\n        vertical-align: middle;\n    }\n\n    .dataframe tbody tr th {\n        vertical-align: top;\n    }\n\n    .dataframe thead th {\n        text-align: right;\n    }\n</style>\n<table border=\"1\" class=\"dataframe\">\n  <thead>\n    <tr style=\"text-align: right;\">\n      <th></th>\n      <th>x</th>\n      <th>y</th>\n      <th>f1(x, y)</th>\n      <th>f2(x, y)</th>\n      <th>delta</th>\n    </tr>\n  </thead>\n  <tbody>\n    <tr>\n      <th>0</th>\n      <td>0.45000</td>\n      <td>0.25000</td>\n      <td>0.359529</td>\n      <td>0.411314</td>\n      <td>0.000000</td>\n    </tr>\n    <tr>\n      <th>1</th>\n      <td>0.45000</td>\n      <td>0.25000</td>\n      <td>0.363699</td>\n      <td>0.410399</td>\n      <td>0.012973</td>\n    </tr>\n    <tr>\n      <th>2</th>\n      <td>0.45616</td>\n      <td>0.23703</td>\n      <td>0.363195</td>\n      <td>0.410034</td>\n      <td>0.002534</td>\n    </tr>\n    <tr>\n      <th>3</th>\n      <td>0.45869</td>\n      <td>0.23864</td>\n      <td>0.362925</td>\n      <td>0.409800</td>\n      <td>0.001649</td>\n    </tr>\n    <tr>\n      <th>4</th>\n      <td>0.46034</td>\n      <td>0.23950</td>\n      <td>0.362870</td>\n      <td>0.409595</td>\n      <td>0.001462</td>\n    </tr>\n    <tr>\n      <th>...</th>\n      <td>...</td>\n      <td>...</td>\n      <td>...</td>\n      <td>...</td>\n      <td>...</td>\n    </tr>\n    <tr>\n      <th>125</th>\n      <td>0.46968</td>\n      <td>0.22961</td>\n      <td>0.365834</td>\n      <td>0.408449</td>\n      <td>0.000603</td>\n    </tr>\n    <tr>\n      <th>126</th>\n      <td>0.47029</td>\n      <td>0.23004</td>\n      <td>0.365761</td>\n      <td>0.408405</td>\n      <td>0.000337</td>\n    </tr>\n    <tr>\n      <th>127</th>\n      <td>0.47062</td>\n      <td>0.23028</td>\n      <td>0.365720</td>\n      <td>0.408380</td>\n      <td>0.000190</td>\n    </tr>\n    <tr>\n      <th>128</th>\n      <td>0.47081</td>\n      <td>0.23042</td>\n      <td>0.365695</td>\n      <td>0.408365</td>\n      <td>0.000110</td>\n    </tr>\n    <tr>\n      <th>129</th>\n      <td>0.47092</td>\n      <td>0.23050</td>\n      <td>0.365678</td>\n      <td>0.408356</td>\n      <td>0.000071</td>\n    </tr>\n  </tbody>\n</table>\n<p>130 rows × 5 columns</p>\n</div>"
     },
     "execution_count": 73,
     "metadata": {},
     "output_type": "execute_result"
    }
   ],
   "source": [
    "x, y = 0.45, 0.25\n",
    "msd(x, y, f1, f2) "
   ],
   "metadata": {
    "collapsed": false,
    "ExecuteTime": {
     "end_time": "2024-12-09T16:38:16.095087400Z",
     "start_time": "2024-12-09T16:38:16.050123200Z"
    }
   },
   "id": "6f70da5b97feafbc"
  },
  {
   "cell_type": "markdown",
   "source": [
    "#### За 128 итераций метода Наискорейшего спуска мы получили ответ (0.47092,0.23050), что с высокой точностью совпадает с реальными значениями"
   ],
   "metadata": {
    "collapsed": false
   },
   "id": "a015a16a3af9b5da"
  },
  {
   "cell_type": "markdown",
   "source": [
    "## 6. Вывод\n",
    "\n",
    "Метод простой итерации и метод Ньютона показали более быструю сходимость по сравнению с методом наискорейшего спуска\n",
    "Метод Ньютона оказался наиболее эффективным благодаря своей квадратичной скорости сходимости\n",
    "Также все методы показали одинаково правильный результат.\n"
   ],
   "metadata": {
    "collapsed": false
   },
   "id": "3df9f79db9c0eae5"
  }
 ],
 "metadata": {
  "kernelspec": {
   "display_name": "Python 3",
   "language": "python",
   "name": "python3"
  },
  "language_info": {
   "codemirror_mode": {
    "name": "ipython",
    "version": 2
   },
   "file_extension": ".py",
   "mimetype": "text/x-python",
   "name": "python",
   "nbconvert_exporter": "python",
   "pygments_lexer": "ipython2",
   "version": "2.7.6"
  }
 },
 "nbformat": 4,
 "nbformat_minor": 5
}
