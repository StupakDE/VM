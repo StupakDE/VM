{
 "cells": [
  {
   "cell_type": "markdown",
   "source": [
    "## Лабораторная работа №2\n",
    "\n",
    "\n",
    "Ступак Дмитрий\n",
    "Б03-207"
   ],
   "metadata": {
    "collapsed": false
   },
   "id": "6104b45e34fb8087"
  },
  {
   "cell_type": "markdown",
   "source": [
    "#### Постановка задачи\n",
    "\n",
    "Провести  вычисления  предложенным  методом  с  заданной  точностью,  либо  с заданным шагом интегрирования\n",
    "\n",
    "### Вариант 17\n",
    "\n",
    "Найти численное решение задачи:\n",
    "\n",
    "$$\n",
    "(xy - x^2) y' + y^2 - 3xy - 2x^2 = 0,\\quad x \\in (1, 2)\n",
    "$$\n",
    "\n",
    "$$\n",
    "y(1) = 1 + \\sqrt{2},\\quad \\varepsilon = 0.0001\n",
    "$$\n",
    "\n",
    "Использовать метод Рунге-Кутты 4-го порядка точности.\n",
    "\n",
    "\n",
    "\n",
    "\n",
    "Представить: \n",
    "- постановку задачи;\n",
    "- теоретическое описание метода, расчетные формулы;\n",
    "- таблицу расчетных данных;  \n",
    "- сравнение полученного решения с точным решением (если оно известно);\n",
    "- графики (полученное решение + точное решение на одном графике);\n",
    "- апостериорную (по расчетным данным, полученным с разными шагами интегрирования) оценку погрешности найденного решения;\n",
    "- выводы;\n",
    "- код (Приложение)."
   ],
   "metadata": {
    "collapsed": false
   },
   "id": "2fe3ec5d55282604"
  },
  {
   "cell_type": "markdown",
   "source": [
    "Реальное решение дифференциального уравнения, с учетом начальных условий\n",
    "\n",
    "$$\n",
    "y(x) = x (1 + \\sqrt{2})\n",
    "$$"
   ],
   "metadata": {
    "collapsed": false
   },
   "id": "64b212af5b040b02"
  },
  {
   "cell_type": "code",
   "execution_count": 2,
   "id": "initial_id",
   "metadata": {
    "collapsed": true,
    "ExecuteTime": {
     "end_time": "2025-04-17T20:42:14.596399Z",
     "start_time": "2025-04-17T20:42:14.578397800Z"
    }
   },
   "outputs": [],
   "source": [
    "import numpy as np\n",
    "import seaborn as sns\n",
    "import matplotlib.pyplot as plt"
   ]
  },
  {
   "cell_type": "code",
   "execution_count": 3,
   "outputs": [],
   "source": [
    "def f(x, y):\n",
    "    return (2 * x ** 2 + 3 * x * y - y ** 2) / (x * y - x ** 2)\n",
    "\n",
    "def f_true(x):\n",
    "    return x * (1 + np.sqrt(2))"
   ],
   "metadata": {
    "collapsed": false,
    "ExecuteTime": {
     "end_time": "2025-04-17T20:42:15.081546Z",
     "start_time": "2025-04-17T20:42:15.072854900Z"
    }
   },
   "id": "fb68144a2e9bceff"
  },
  {
   "cell_type": "markdown",
   "source": [
    "## Теоретическое описание метода и расчетные формулы\n",
    "\n",
    "### Метод Рунге-Кутты 4-го порядка\n",
    "\n",
    "Метод Рунге-Кутты 4-го порядка — один из численных методов для решения обыкновенных дифференциальных уравнений первого порядка:\n",
    "\n",
    "$$\n",
    "y' = f(x, y), \\quad y(x_0) = y_0\n",
    "$$\n",
    "\n",
    "Метод позволяет получить приближённое значение решения $y$ в точке $x_{n+1} = x_n + h$, используя информацию о значении функции $f(x, y)$ в четырёх точках внутри интервала $[x_n, x_{n+1}]$.\n",
    "\n",
    "Пусть $h$ — шаг по $x$. Тогда значения $y_{n+1}$ вычисляется по формулам:\n",
    "\n",
    "$$\n",
    "\\begin{aligned}\n",
    "k_1 &= h f(x_n, y_n) \\\\\\\\\n",
    "k_2 &= h f\\left(x_n + \\frac{h}{2},\\ y_n + \\frac{k_1}{2}\\right) \\\\\\\\\n",
    "k_3 &= h f\\left(x_n + \\frac{h}{2},\\ y_n + \\frac{k_2}{2}\\right) \\\\\\\\\n",
    "k_4 &= h f(x_n + h,\\ y_n + k_3) \\\\\\\\\n",
    "y_{n+1} &= y_n + \\frac{1}{6}(k_1 + 2k_2 + 2k_3 + k_4)\n",
    "\\end{aligned}\n",
    "$$"
   ],
   "metadata": {
    "collapsed": false
   },
   "id": "d4c4538027fc2440"
  },
  {
   "cell_type": "code",
   "execution_count": 4,
   "outputs": [],
   "source": [
    "def rk4(f, x0, y0, x_end, h):\n",
    "    xs = [x0]\n",
    "    ys = [y0]\n",
    "    x = x0\n",
    "    y = y0\n",
    "    while x < x_end:\n",
    "        if x + h > x_end:\n",
    "            h = x_end - x\n",
    "        k1 = h * f(x, y)\n",
    "        k2 = h * f(x + h / 2, y + k1 / 2)\n",
    "        k3 = h * f(x + h / 2, y + k2 / 2)\n",
    "        k4 = h * f(x + h, y + k3)\n",
    "        y += (k1 + 2 * k2 + 2 * k3 + k4) / 6\n",
    "        x += h\n",
    "        xs.append(x)\n",
    "        ys.append(y)\n",
    "    return np.array(xs), np.array(ys)"
   ],
   "metadata": {
    "collapsed": false,
    "ExecuteTime": {
     "end_time": "2025-04-17T20:42:15.211130400Z",
     "start_time": "2025-04-17T20:42:15.179847200Z"
    }
   },
   "id": "1da61c2f067d7ee4"
  },
  {
   "cell_type": "code",
   "execution_count": 5,
   "outputs": [],
   "source": [
    "def estimate_error(y_h, y_h2):\n",
    "    y_h2_2 = y_h2[::2]  \n",
    "    error = np.max(np.abs(y_h - y_h2_2))  \n",
    "    return error / 15"
   ],
   "metadata": {
    "collapsed": false,
    "ExecuteTime": {
     "end_time": "2025-04-17T20:42:15.212126200Z",
     "start_time": "2025-04-17T20:42:15.187423600Z"
    }
   },
   "id": "423e931a3a06a6c1"
  },
  {
   "cell_type": "code",
   "execution_count": 6,
   "outputs": [],
   "source": [
    "x0, x_end = 1, 2\n",
    "y0 = 1 + np.sqrt(2)\n",
    "h = 0.5\n",
    "eps = 0.0001\n",
    "error_table = []"
   ],
   "metadata": {
    "collapsed": false,
    "ExecuteTime": {
     "end_time": "2025-04-17T20:42:15.286786100Z",
     "start_time": "2025-04-17T20:42:15.252322200Z"
    }
   },
   "id": "382fdb7d53a1e0f8"
  },
  {
   "cell_type": "code",
   "execution_count": 7,
   "outputs": [],
   "source": [
    "while True:\n",
    "    x_h, y_h = rk4(f, x0, y0, x_end, h)\n",
    "    x_h2, y_h2 = rk4(f, x0, y0, x_end, h/2)\n",
    "\n",
    "    error = estimate_error(y_h, y_h2)\n",
    "    error_table.append((h, error))\n",
    "\n",
    "    if error < eps:\n",
    "        break\n",
    "    else:\n",
    "        h /= 2"
   ],
   "metadata": {
    "collapsed": false,
    "ExecuteTime": {
     "end_time": "2025-04-17T20:42:15.363839500Z",
     "start_time": "2025-04-17T20:42:15.283681Z"
    }
   },
   "id": "51835f7a1150503"
  },
  {
   "cell_type": "code",
   "execution_count": 8,
   "outputs": [
    {
     "name": "stdout",
     "output_type": "stream",
     "text": [
      "h = 0.5,  Погрешность  = 5.921189464667501e-17\n"
     ]
    }
   ],
   "source": [
    "for h_val, err in error_table:\n",
    "    print(f'h = {h_val},  Погрешность  = {err}')"
   ],
   "metadata": {
    "collapsed": false,
    "ExecuteTime": {
     "end_time": "2025-04-17T20:42:15.383044200Z",
     "start_time": "2025-04-17T20:42:15.302206Z"
    }
   },
   "id": "81ee53fabeb91ea1"
  },
  {
   "cell_type": "code",
   "execution_count": 9,
   "outputs": [
    {
     "name": "stdout",
     "output_type": "stream",
     "text": [
      "Численное решение с h = 0.5\n",
      "y = [2.41421356 3.62132034 4.82842712]\n"
     ]
    }
   ],
   "source": [
    "print(\"Численное решение с h =\", h)\n",
    "print(\"y =\", y_h)"
   ],
   "metadata": {
    "collapsed": false,
    "ExecuteTime": {
     "end_time": "2025-04-17T20:42:15.426695900Z",
     "start_time": "2025-04-17T20:42:15.344140700Z"
    }
   },
   "id": "c03d1dc38ae20d62"
  },
  {
   "cell_type": "code",
   "execution_count": 10,
   "outputs": [
    {
     "name": "stdout",
     "output_type": "stream",
     "text": [
      "Аналитическое решение с h = 0.5\n",
      "y = [2.41421356 3.62132034 4.82842712]\n"
     ]
    }
   ],
   "source": [
    "y_true = f_true(x_h)\n",
    "y_true[0] = 1 + np.sqrt(2)\n",
    "print(\"Аналитическое решение с h =\", h)\n",
    "print(\"y =\", y_true)"
   ],
   "metadata": {
    "collapsed": false,
    "ExecuteTime": {
     "end_time": "2025-04-17T20:42:15.440714200Z",
     "start_time": "2025-04-17T20:42:15.351445800Z"
    }
   },
   "id": "c0b5c274a60948d8"
  },
  {
   "cell_type": "code",
   "execution_count": 11,
   "outputs": [
    {
     "name": "stdout",
     "output_type": "stream",
     "text": [
      "Погрешность между численным и аналитическим методами\n",
      "e = 4.440892098500626e-16\n"
     ]
    }
   ],
   "source": [
    "print(\"Погрешность между численным и аналитическим методами\")\n",
    "print(\"e =\", np.max(np.abs(y_h - y_true)))"
   ],
   "metadata": {
    "collapsed": false,
    "ExecuteTime": {
     "end_time": "2025-04-17T20:42:15.519953800Z",
     "start_time": "2025-04-17T20:42:15.402153500Z"
    }
   },
   "id": "559b7714ab3e822b"
  },
  {
   "cell_type": "code",
   "execution_count": 12,
   "outputs": [],
   "source": [
    "x_h_05, y_h_05 = rk4(f, x0, y0, x_end, 0.5)\n",
    "x_h_02, y_h_02 = rk4(f, x0, y0, x_end, 0.2)\n",
    "x_h_005, y_h_005 = rk4(f, x0, y0, x_end, 0.05)"
   ],
   "metadata": {
    "collapsed": false,
    "ExecuteTime": {
     "end_time": "2025-04-17T20:42:15.555179900Z",
     "start_time": "2025-04-17T20:42:15.423686200Z"
    }
   },
   "id": "9fb27bf0451a7d24"
  },
  {
   "cell_type": "code",
   "execution_count": 14,
   "outputs": [
    {
     "data": {
      "text/plain": "<Figure size 640x480 with 1 Axes>",
      "image/png": "[encoded data removed]"
     },
     "metadata": {},
     "output_type": "display_data"
    }
   ],
   "source": [
    "x = np.linspace(1, 2, 100)\n",
    "y = f_true(x)\n",
    "y[0] = 1 + np.sqrt(2)\n",
    "\n",
    "sns.lineplot(x=x, y=y, label=\"Аналитическое решение\")\n",
    "sns.scatterplot(x=x_h_005, y=y_h_005, label=\"Численное решение, h=0,05\", color=\"grey\", s=10)\n",
    "sns.scatterplot(x=x_h_02, y=y_h_02, label=\"Численное решение, h=0,2\", color=\"green\", s=100)\n",
    "sns.scatterplot(x=x_h_05, y=y_h_05, label=\"Численное решение, h=0,5\", color=\"red\", s=100)\n",
    "plt.xlabel('x')\n",
    "plt.ylabel('y')\n",
    "plt.title('Численное решение ОДУ')\n",
    "plt.legend()\n",
    "plt.grid()\n",
    "plt.show()"
   ],
   "metadata": {
    "collapsed": false,
    "ExecuteTime": {
     "end_time": "2025-04-17T20:42:29.737130300Z",
     "start_time": "2025-04-17T20:42:29.531467800Z"
    }
   },
   "id": "14000c46d9f022c8"
  },
  {
   "cell_type": "markdown",
   "source": [
    "## Вывод\n",
    "\n",
    "При использовании метода Рунге-Кутты 4-го порядка для решения заданного дифференциального уравнения погрешность вычислений оказалась почти нулевая, что говорит о точности данного метода и подтверждает эффективность и надёжность метода Рунге-Кутты для данной задачи.\n",
    "\n",
    "Таким образом, поставленная задача решена корректно, а полученное решение можно считать достоверным в пределах заданной точности."
   ],
   "metadata": {
    "collapsed": false
   },
   "id": "b9e4dd4876e1e0a4"
  }
 ],
 "metadata": {
  "kernelspec": {
   "display_name": "Python 3",
   "language": "python",
   "name": "python3"
  },
  "language_info": {
   "codemirror_mode": {
    "name": "ipython",
    "version": 2
   },
   "file_extension": ".py",
   "mimetype": "text/x-python",
   "name": "python",
   "nbconvert_exporter": "python",
   "pygments_lexer": "ipython2",
   "version": "2.7.6"
  }
 },
 "nbformat": 4,
 "nbformat_minor": 5
}
